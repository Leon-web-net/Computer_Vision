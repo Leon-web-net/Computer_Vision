{
  "nbformat": 4,
  "nbformat_minor": 0,
  "metadata": {
    "colab": {
      "provenance": [],
      "gpuType": "T4",
      "authorship_tag": "ABX9TyOyJN10wG+LrEsfhPGMy33m",
      "include_colab_link": true
    },
    "kernelspec": {
      "name": "python3",
      "display_name": "Python 3"
    },
    "language_info": {
      "name": "python"
    },
    "accelerator": "GPU"
  },
  "cells": [
    {
      "cell_type": "markdown",
      "metadata": {
        "id": "view-in-github",
        "colab_type": "text"
      },
      "source": [
        "<a href=\"https://colab.research.google.com/github/Leon-web-net/Machine_Learning/blob/Intro%2Fbasics/Intro.ipynb\" target=\"_parent\"><img src=\"https://colab.research.google.com/assets/colab-badge.svg\" alt=\"Open In Colab\"/></a>"
      ]
    },
    {
      "cell_type": "code",
      "execution_count": 1,
      "metadata": {
        "colab": {
          "base_uri": "https://localhost:8080/"
        },
        "id": "oIXRNLSLKAu1",
        "outputId": "7887ad2f-76e7-4a68-8c7a-4c83909de0ef"
      },
      "outputs": [
        {
          "output_type": "stream",
          "name": "stdout",
          "text": [
            "2.0.1+cu118\n"
          ]
        }
      ],
      "source": [
        "import torch\n",
        "import pandas as pd\n",
        "import numpy as np\n",
        "import matplotlib.pyplot as plt\n",
        "print(torch.__version__)"
      ]
    },
    {
      "cell_type": "code",
      "source": [
        "#scalar\n",
        "scalar = torch.tensor(7)\n",
        "scalar"
      ],
      "metadata": {
        "colab": {
          "base_uri": "https://localhost:8080/"
        },
        "id": "w_r9n7rEKGwG",
        "outputId": "39a1592f-444d-4f81-8cc7-d311fb71e594"
      },
      "execution_count": 2,
      "outputs": [
        {
          "output_type": "execute_result",
          "data": {
            "text/plain": [
              "tensor(7)"
            ]
          },
          "metadata": {},
          "execution_count": 2
        }
      ]
    },
    {
      "cell_type": "code",
      "source": [
        "scalar.ndim\n",
        "scalar.item()"
      ],
      "metadata": {
        "colab": {
          "base_uri": "https://localhost:8080/"
        },
        "id": "25rRFg-WMDC7",
        "outputId": "838cf62c-c054-49f0-af60-63dce01c0a5c"
      },
      "execution_count": 3,
      "outputs": [
        {
          "output_type": "execute_result",
          "data": {
            "text/plain": [
              "7"
            ]
          },
          "metadata": {},
          "execution_count": 3
        }
      ]
    },
    {
      "cell_type": "code",
      "source": [
        "# Vector\n",
        "vector = torch.tensor([7,4])\n",
        "vector\n",
        "for i in vector:\n",
        "  print(i.item())\n",
        "\n",
        "vector.ndim"
      ],
      "metadata": {
        "colab": {
          "base_uri": "https://localhost:8080/"
        },
        "id": "hwpEB8_7MT19",
        "outputId": "d91b8594-9177-4ebc-f8fb-2262f239fd39"
      },
      "execution_count": 4,
      "outputs": [
        {
          "output_type": "stream",
          "name": "stdout",
          "text": [
            "7\n",
            "4\n"
          ]
        },
        {
          "output_type": "execute_result",
          "data": {
            "text/plain": [
              "1"
            ]
          },
          "metadata": {},
          "execution_count": 4
        }
      ]
    },
    {
      "cell_type": "code",
      "source": [
        "vector.shape"
      ],
      "metadata": {
        "colab": {
          "base_uri": "https://localhost:8080/"
        },
        "id": "G0XV9d0GM7Kp",
        "outputId": "2e8a6fc7-8e2a-4581-d60d-2ad79aa1889a"
      },
      "execution_count": 5,
      "outputs": [
        {
          "output_type": "execute_result",
          "data": {
            "text/plain": [
              "torch.Size([2])"
            ]
          },
          "metadata": {},
          "execution_count": 5
        }
      ]
    },
    {
      "cell_type": "code",
      "source": [
        "# MATRIX\n",
        "matrix = torch.tensor([[7,6],[5,5]])\n",
        "matrix.ndim"
      ],
      "metadata": {
        "colab": {
          "base_uri": "https://localhost:8080/"
        },
        "id": "2OywSYAeNJi6",
        "outputId": "d571aabb-36ee-4955-bd43-2f8ba31f1902"
      },
      "execution_count": 6,
      "outputs": [
        {
          "output_type": "execute_result",
          "data": {
            "text/plain": [
              "2"
            ]
          },
          "metadata": {},
          "execution_count": 6
        }
      ]
    },
    {
      "cell_type": "code",
      "source": [
        "matrix.shape"
      ],
      "metadata": {
        "colab": {
          "base_uri": "https://localhost:8080/"
        },
        "id": "L845SXQsNaaU",
        "outputId": "80286457-8dff-4bcf-8310-cee084b20637"
      },
      "execution_count": 7,
      "outputs": [
        {
          "output_type": "execute_result",
          "data": {
            "text/plain": [
              "torch.Size([2, 2])"
            ]
          },
          "metadata": {},
          "execution_count": 7
        }
      ]
    },
    {
      "cell_type": "code",
      "source": [
        "tensor = torch.tensor([[[2,2,3],[3,3,3],[3,4,4]]])\n",
        "tensor[0][1]"
      ],
      "metadata": {
        "id": "qu9H1et-Ng8E",
        "colab": {
          "base_uri": "https://localhost:8080/"
        },
        "outputId": "29b1e934-ae8a-4377-f4bb-c286514191bd"
      },
      "execution_count": 8,
      "outputs": [
        {
          "output_type": "execute_result",
          "data": {
            "text/plain": [
              "tensor([3, 3, 3])"
            ]
          },
          "metadata": {},
          "execution_count": 8
        }
      ]
    },
    {
      "cell_type": "markdown",
      "source": [
        "#Random Tensors#\n",
        "Why random tensors?\n",
        "\n",
        "Important for neural networks as they learn starting with tensors full of random numbers and adjust those to better represent the data.\n",
        "\n",
        "`random numbers -> look at data -> update random numbers -> look at data -> update random numbers`\n"
      ],
      "metadata": {
        "id": "7o9oGxWoBtYi"
      }
    },
    {
      "cell_type": "code",
      "source": [
        "# create a random tensor of shape (3,4)\n",
        "random_tensor = torch.rand(3,4,5)\n",
        "random_tensor"
      ],
      "metadata": {
        "id": "oAC4hLxLBw5G",
        "colab": {
          "base_uri": "https://localhost:8080/"
        },
        "outputId": "ef4367c7-0d2a-48d7-94e0-85217bf8c6c0"
      },
      "execution_count": 9,
      "outputs": [
        {
          "output_type": "execute_result",
          "data": {
            "text/plain": [
              "tensor([[[0.8458, 0.7010, 0.6399, 0.5297, 0.7461],\n",
              "         [0.9747, 0.4462, 0.6449, 0.7338, 0.6773],\n",
              "         [0.9276, 0.9688, 0.1040, 0.4597, 0.3061],\n",
              "         [0.2036, 0.1149, 0.8970, 0.1870, 0.5470]],\n",
              "\n",
              "        [[0.7047, 0.6799, 0.6029, 0.9200, 0.4302],\n",
              "         [0.6008, 0.3640, 0.7177, 0.2870, 0.2759],\n",
              "         [0.2225, 0.2305, 0.5579, 0.7096, 0.2334],\n",
              "         [0.3939, 0.8852, 0.3361, 0.6965, 0.7806]],\n",
              "\n",
              "        [[0.7251, 0.5556, 0.5432, 0.2851, 0.6216],\n",
              "         [0.6535, 0.4563, 0.0846, 0.8550, 0.9584],\n",
              "         [0.3325, 0.2588, 0.8462, 0.9571, 0.3156],\n",
              "         [0.2946, 0.1064, 0.8958, 0.9392, 0.5530]]])"
            ]
          },
          "metadata": {},
          "execution_count": 9
        }
      ]
    },
    {
      "cell_type": "markdown",
      "source": [
        "Create random tensor with similar shape to Image tensor.\n",
        "\n",
        "height width colour channel (R, G, B)"
      ],
      "metadata": {
        "id": "QIs3udjHHeXP"
      }
    },
    {
      "cell_type": "code",
      "source": [
        "random_img_tensor = torch.rand(size=(3,224,224))\n",
        "random_img_tensor.shape, random_img_tensor.ndim"
      ],
      "metadata": {
        "colab": {
          "base_uri": "https://localhost:8080/"
        },
        "id": "ugfeAf8SGU-Y",
        "outputId": "87cea90e-fa10-4f55-d7c4-9e14b743d4ad"
      },
      "execution_count": 10,
      "outputs": [
        {
          "output_type": "execute_result",
          "data": {
            "text/plain": [
              "(torch.Size([3, 224, 224]), 3)"
            ]
          },
          "metadata": {},
          "execution_count": 10
        }
      ]
    },
    {
      "cell_type": "markdown",
      "source": [
        "# Zeros and Ones"
      ],
      "metadata": {
        "id": "50Viy8fiJ4Tc"
      }
    },
    {
      "cell_type": "code",
      "source": [
        "# create a tensor of all zeros (for creating a mask)\n",
        "zeros = torch.zeros(size=(3,4))\n",
        "zeros[0][0]=1\n",
        "zeros[1][1]=1\n",
        "tensorA = torch.rand(size=(3,1))\n",
        "tensorA, zeros"
      ],
      "metadata": {
        "colab": {
          "base_uri": "https://localhost:8080/"
        },
        "id": "Zwkn_DavJ-6e",
        "outputId": "027c6c38-cde3-492c-98a2-f4dd40195fb6"
      },
      "execution_count": 11,
      "outputs": [
        {
          "output_type": "execute_result",
          "data": {
            "text/plain": [
              "(tensor([[0.9758],\n",
              "         [0.6190],\n",
              "         [0.6545]]),\n",
              " tensor([[1., 0., 0., 0.],\n",
              "         [0., 1., 0., 0.],\n",
              "         [0., 0., 0., 0.]]))"
            ]
          },
          "metadata": {},
          "execution_count": 11
        }
      ]
    },
    {
      "cell_type": "code",
      "source": [
        "tensorA*zeros"
      ],
      "metadata": {
        "id": "GcGVveBIOd37",
        "colab": {
          "base_uri": "https://localhost:8080/"
        },
        "outputId": "001262d7-8645-4dcf-c30c-f645d397e56a"
      },
      "execution_count": 12,
      "outputs": [
        {
          "output_type": "execute_result",
          "data": {
            "text/plain": [
              "tensor([[0.9758, 0.0000, 0.0000, 0.0000],\n",
              "        [0.0000, 0.6190, 0.0000, 0.0000],\n",
              "        [0.0000, 0.0000, 0.0000, 0.0000]])"
            ]
          },
          "metadata": {},
          "execution_count": 12
        }
      ]
    },
    {
      "cell_type": "code",
      "source": [
        "zeros.dtype # default float32"
      ],
      "metadata": {
        "colab": {
          "base_uri": "https://localhost:8080/"
        },
        "id": "VI8tN0JLnVcI",
        "outputId": "7fe9d0ca-e9ba-4884-d246-2788fc3a062c"
      },
      "execution_count": 13,
      "outputs": [
        {
          "output_type": "execute_result",
          "data": {
            "text/plain": [
              "torch.float32"
            ]
          },
          "metadata": {},
          "execution_count": 13
        }
      ]
    },
    {
      "cell_type": "markdown",
      "source": [
        "#Creating Range of Tensors"
      ],
      "metadata": {
        "id": "-ZN8ZnU7o4Co"
      }
    },
    {
      "cell_type": "code",
      "source": [
        "# torch.arange()\n",
        "one_step_ten=torch.arange(start=0,end=10,step=2)\n",
        "one_step_ten"
      ],
      "metadata": {
        "colab": {
          "base_uri": "https://localhost:8080/"
        },
        "id": "9iyH9IB9o_kp",
        "outputId": "e5a4fd42-ecb9-4a0e-d605-51261b0169c7"
      },
      "execution_count": 14,
      "outputs": [
        {
          "output_type": "execute_result",
          "data": {
            "text/plain": [
              "tensor([0, 2, 4, 6, 8])"
            ]
          },
          "metadata": {},
          "execution_count": 14
        }
      ]
    },
    {
      "cell_type": "code",
      "source": [
        "# creating tensors like\n",
        "zero_like = torch.zeros_like(input=one_step_ten)\n",
        "zero_like"
      ],
      "metadata": {
        "colab": {
          "base_uri": "https://localhost:8080/"
        },
        "id": "xHKx0m6spEHb",
        "outputId": "30391015-b5ac-4abd-c324-9acbce1dae4a"
      },
      "execution_count": 15,
      "outputs": [
        {
          "output_type": "execute_result",
          "data": {
            "text/plain": [
              "tensor([0, 0, 0, 0, 0])"
            ]
          },
          "metadata": {},
          "execution_count": 15
        }
      ]
    },
    {
      "cell_type": "markdown",
      "source": [
        "#Tensor Datatypes\n",
        "\n",
        "**3 Big Errors**\n",
        "\n",
        "\n",
        "1.   Tensor not right datatype\n",
        "2.   Tensor not right shape\n",
        "1.   Tensor not on the right device\n",
        "\n"
      ],
      "metadata": {
        "id": "E7ezu9Tgq1CA"
      }
    },
    {
      "cell_type": "code",
      "source": [
        "# Float 32 tensor\n",
        "float_32_tensor = torch.tensor([3.0,6,9],\n",
        "                               dtype=None,\n",
        "                               device=\"cuda\", # what device: cpu, gpu, tpu, etc\n",
        "                               requires_grad=False)\n",
        "float_16_tensor = torch.tensor([3.0,6,9], dtype=torch.float16, device=\"cuda\")\n",
        "float_32_tensor"
      ],
      "metadata": {
        "colab": {
          "base_uri": "https://localhost:8080/"
        },
        "id": "8Yq3XZSTq4PP",
        "outputId": "0032377a-4276-443b-a0d4-cd6007cd912a"
      },
      "execution_count": 16,
      "outputs": [
        {
          "output_type": "execute_result",
          "data": {
            "text/plain": [
              "tensor([3., 6., 9.], device='cuda:0')"
            ]
          },
          "metadata": {},
          "execution_count": 16
        }
      ]
    },
    {
      "cell_type": "code",
      "source": [
        "float_32_tensor.dtype"
      ],
      "metadata": {
        "colab": {
          "base_uri": "https://localhost:8080/"
        },
        "id": "VZn2BEI1rH1n",
        "outputId": "8fa06b61-4e09-4321-af84-c1196d14b6e0"
      },
      "execution_count": 17,
      "outputs": [
        {
          "output_type": "execute_result",
          "data": {
            "text/plain": [
              "torch.float32"
            ]
          },
          "metadata": {},
          "execution_count": 17
        }
      ]
    },
    {
      "cell_type": "code",
      "source": [
        "float_32_tensor*float_16_tensor"
      ],
      "metadata": {
        "colab": {
          "base_uri": "https://localhost:8080/"
        },
        "id": "lobYPHGyrR7Y",
        "outputId": "77698c7c-0e50-4601-da2d-3b526144a853"
      },
      "execution_count": 18,
      "outputs": [
        {
          "output_type": "execute_result",
          "data": {
            "text/plain": [
              "tensor([ 9., 36., 81.], device='cuda:0')"
            ]
          },
          "metadata": {},
          "execution_count": 18
        }
      ]
    },
    {
      "cell_type": "markdown",
      "source": [
        "#Getting information from tensor\n",
        "\n",
        "\n",
        "1.   Datatype: tensor.dtype\n",
        "2.   Tensor shape: tensor.shape\n",
        "\n",
        "1.   Tensor device: tensor.device\n",
        "\n",
        "\n",
        "\n",
        "\n",
        "\n"
      ],
      "metadata": {
        "id": "L1gwgAQBvsB1"
      }
    },
    {
      "cell_type": "code",
      "source": [
        "some_tensor = torch.rand(3,4)\n",
        "some_tensor"
      ],
      "metadata": {
        "colab": {
          "base_uri": "https://localhost:8080/"
        },
        "id": "9DFZD1RCvlZx",
        "outputId": "e71eee44-2330-4236-837b-b4a990ee9e3a"
      },
      "execution_count": 19,
      "outputs": [
        {
          "output_type": "execute_result",
          "data": {
            "text/plain": [
              "tensor([[0.1806, 0.2982, 0.5328, 0.3880],\n",
              "        [0.9181, 0.8034, 0.6194, 0.8589],\n",
              "        [0.9001, 0.0057, 0.7831, 0.1400]])"
            ]
          },
          "metadata": {},
          "execution_count": 19
        }
      ]
    },
    {
      "cell_type": "code",
      "source": [
        "print(some_tensor.dtype, some_tensor.shape,some_tensor.device,)"
      ],
      "metadata": {
        "colab": {
          "base_uri": "https://localhost:8080/"
        },
        "id": "iSvIOuY7vpbU",
        "outputId": "e5441302-971c-4cdc-c62a-499f06da7360"
      },
      "execution_count": 20,
      "outputs": [
        {
          "output_type": "stream",
          "name": "stdout",
          "text": [
            "torch.float32 torch.Size([3, 4]) cpu\n"
          ]
        }
      ]
    },
    {
      "cell_type": "markdown",
      "source": [
        "# Tensor Operations\n",
        "\n",
        "\n",
        "\n",
        "*   Addition\n",
        "*   Subtraction\n",
        "*   Multiplication\n",
        "*   Division\n",
        "*   Matrix multiplication\n",
        "\n"
      ],
      "metadata": {
        "id": "Z1_ey4Hfwy6a"
      }
    },
    {
      "cell_type": "code",
      "source": [
        "# Create tensor\n",
        "tensor = torch.tensor([1,2,3])\n",
        "# Add\n",
        "tensor + 10"
      ],
      "metadata": {
        "colab": {
          "base_uri": "https://localhost:8080/"
        },
        "id": "nuV-_lvQw1xR",
        "outputId": "43e1fbc8-09e2-49dd-979e-9f7db47bd34c"
      },
      "execution_count": 21,
      "outputs": [
        {
          "output_type": "execute_result",
          "data": {
            "text/plain": [
              "tensor([11, 12, 13])"
            ]
          },
          "metadata": {},
          "execution_count": 21
        }
      ]
    },
    {
      "cell_type": "code",
      "source": [
        "# Sub\n",
        "tensor - 10"
      ],
      "metadata": {
        "colab": {
          "base_uri": "https://localhost:8080/"
        },
        "id": "t1X2USwoxZkg",
        "outputId": "387d1569-fa88-41f4-d654-f7b2e736bf45"
      },
      "execution_count": 22,
      "outputs": [
        {
          "output_type": "execute_result",
          "data": {
            "text/plain": [
              "tensor([-9, -8, -7])"
            ]
          },
          "metadata": {},
          "execution_count": 22
        }
      ]
    },
    {
      "cell_type": "code",
      "source": [
        "# Multiply\n",
        "tensor*10"
      ],
      "metadata": {
        "colab": {
          "base_uri": "https://localhost:8080/"
        },
        "id": "wH0uRoYWxh_Z",
        "outputId": "8e801d4a-2067-4b02-e653-b27f7d1eba79"
      },
      "execution_count": 23,
      "outputs": [
        {
          "output_type": "execute_result",
          "data": {
            "text/plain": [
              "tensor([10, 20, 30])"
            ]
          },
          "metadata": {},
          "execution_count": 23
        }
      ]
    },
    {
      "cell_type": "code",
      "source": [
        "# Divide\n",
        "tensor/10"
      ],
      "metadata": {
        "colab": {
          "base_uri": "https://localhost:8080/"
        },
        "id": "LmhLseFDxlPh",
        "outputId": "8432ca98-affa-4ba5-fb7e-efd130f9bcb3"
      },
      "execution_count": 24,
      "outputs": [
        {
          "output_type": "execute_result",
          "data": {
            "text/plain": [
              "tensor([0.1000, 0.2000, 0.3000])"
            ]
          },
          "metadata": {},
          "execution_count": 24
        }
      ]
    },
    {
      "cell_type": "code",
      "source": [
        "# Matrix multipliaction (dot product)\n",
        "tensor * tensor"
      ],
      "metadata": {
        "colab": {
          "base_uri": "https://localhost:8080/"
        },
        "id": "MKgSuXwxxn0J",
        "outputId": "bf25fc14-1f0c-4662-e001-f3bf91ebcb6d"
      },
      "execution_count": 25,
      "outputs": [
        {
          "output_type": "execute_result",
          "data": {
            "text/plain": [
              "tensor([1, 4, 9])"
            ]
          },
          "metadata": {},
          "execution_count": 25
        }
      ]
    },
    {
      "cell_type": "code",
      "source": [
        "torch.matmul(tensor, tensor)"
      ],
      "metadata": {
        "colab": {
          "base_uri": "https://localhost:8080/"
        },
        "id": "OyFm_wGTypwr",
        "outputId": "873f7012-3b8d-4afe-a3e5-aa60d59a2ae5"
      },
      "execution_count": 26,
      "outputs": [
        {
          "output_type": "execute_result",
          "data": {
            "text/plain": [
              "tensor(14)"
            ]
          },
          "metadata": {},
          "execution_count": 26
        }
      ]
    },
    {
      "cell_type": "code",
      "source": [
        "%%time\n",
        "value = 0\n",
        "for i in range(len(tensor)):\n",
        "  value+= tensor[i] *tensor[i]\n",
        "\n",
        "print(value)"
      ],
      "metadata": {
        "id": "eVAG5gmcy2y6",
        "colab": {
          "base_uri": "https://localhost:8080/"
        },
        "outputId": "b16d01b2-7ecf-4a02-931f-4a2d0468b08a"
      },
      "execution_count": 27,
      "outputs": [
        {
          "output_type": "stream",
          "name": "stdout",
          "text": [
            "tensor(14)\n",
            "CPU times: user 1.04 ms, sys: 7 µs, total: 1.04 ms\n",
            "Wall time: 1.07 ms\n"
          ]
        }
      ]
    },
    {
      "cell_type": "code",
      "source": [
        "%%time\n",
        "torch.matmul(tensor, tensor)"
      ],
      "metadata": {
        "colab": {
          "base_uri": "https://localhost:8080/"
        },
        "id": "RD4p1iR4WjK0",
        "outputId": "d3abc094-8e5f-48f0-c8b9-f47690ee013b"
      },
      "execution_count": 28,
      "outputs": [
        {
          "output_type": "stream",
          "name": "stdout",
          "text": [
            "CPU times: user 26 µs, sys: 7 µs, total: 33 µs\n",
            "Wall time: 35.3 µs\n"
          ]
        },
        {
          "output_type": "execute_result",
          "data": {
            "text/plain": [
              "tensor(14)"
            ]
          },
          "metadata": {},
          "execution_count": 28
        }
      ]
    },
    {
      "cell_type": "code",
      "source": [
        "tensor @ tensor"
      ],
      "metadata": {
        "colab": {
          "base_uri": "https://localhost:8080/"
        },
        "id": "_lZdSUSYX5W8",
        "outputId": "620cf496-18d5-49a0-b106-0322fc6c64e2"
      },
      "execution_count": 29,
      "outputs": [
        {
          "output_type": "execute_result",
          "data": {
            "text/plain": [
              "tensor(14)"
            ]
          },
          "metadata": {},
          "execution_count": 29
        }
      ]
    },
    {
      "cell_type": "markdown",
      "source": [
        "# Matrix Multiplication\n",
        "\n",
        "One of the most common errors in deep learning: shape errors.\n",
        "\n",
        "Two rule in matrix multiplication:\n",
        "\n",
        "\n",
        "1.   The **Inner Dimensions** must match:\n",
        "      * `(3,2) @ (3,2)` won't work\n",
        "      * `(2,3) @ (3,2)` will work\n",
        "      * `(3,2) @ (2,3)` will work\n",
        "\n",
        "\n",
        "2.   The resulting matrix has result of the **outer dimensions**\n",
        "   * ` (2,3) @ (3,2)` -> `(2,2)`\n",
        "   * `(2,100) @ (100,3)` -> `(2,3)`\n",
        "\n"
      ],
      "metadata": {
        "id": "1VVMe_nyXMNc"
      }
    },
    {
      "cell_type": "code",
      "source": [
        "torch.matmul(torch.rand(2,100), torch.rand(100,3))"
      ],
      "metadata": {
        "colab": {
          "base_uri": "https://localhost:8080/"
        },
        "id": "dueIEzDjXPYs",
        "outputId": "472fe232-8c72-481d-f6ec-33e128994194"
      },
      "execution_count": 30,
      "outputs": [
        {
          "output_type": "execute_result",
          "data": {
            "text/plain": [
              "tensor([[26.7740, 23.1778, 24.4927],\n",
              "        [27.7882, 24.4227, 26.3891]])"
            ]
          },
          "metadata": {},
          "execution_count": 30
        }
      ]
    },
    {
      "cell_type": "code",
      "source": [
        "Tensor_A = torch.rand(2,3)\n",
        "Tensor_B = torch.rand(2,3)\n",
        "\n",
        "# torch.matmul(Tensor_A, Tensor_B)  does not work"
      ],
      "metadata": {
        "id": "igjIiMrPYWQc"
      },
      "execution_count": 31,
      "outputs": []
    },
    {
      "cell_type": "markdown",
      "source": [
        "To fix our tensor shape issues, we can manipulate the shape of one of our tensors using a transpose\n",
        "\n",
        "A **transpose** switches dimensions of given tensor"
      ],
      "metadata": {
        "id": "OXXbSYTVbsXK"
      }
    },
    {
      "cell_type": "code",
      "source": [
        "Tensor_A, Tensor_A.T"
      ],
      "metadata": {
        "colab": {
          "base_uri": "https://localhost:8080/"
        },
        "id": "NaooiFlGb6yl",
        "outputId": "afa63840-158d-4e03-805a-9217d2778992"
      },
      "execution_count": 32,
      "outputs": [
        {
          "output_type": "execute_result",
          "data": {
            "text/plain": [
              "(tensor([[0.9409, 0.6852, 0.4049],\n",
              "         [0.6063, 0.2018, 0.1903]]),\n",
              " tensor([[0.9409, 0.6063],\n",
              "         [0.6852, 0.2018],\n",
              "         [0.4049, 0.1903]]))"
            ]
          },
          "metadata": {},
          "execution_count": 32
        }
      ]
    },
    {
      "cell_type": "markdown",
      "source": [
        "# Finding Min Max Mean Sum\n",
        "(Tensor Aggregation)"
      ],
      "metadata": {
        "id": "Rd0QGAv-bky3"
      }
    },
    {
      "cell_type": "code",
      "source": [
        "# create tensor\n",
        "x = torch.arange(0,100,10)\n",
        "x"
      ],
      "metadata": {
        "colab": {
          "base_uri": "https://localhost:8080/"
        },
        "id": "hQJ45SUdbuGA",
        "outputId": "4ef61597-59fb-4732-b118-df9ca7c0bb7d"
      },
      "execution_count": 34,
      "outputs": [
        {
          "output_type": "execute_result",
          "data": {
            "text/plain": [
              "tensor([ 0, 10, 20, 30, 40, 50, 60, 70, 80, 90])"
            ]
          },
          "metadata": {},
          "execution_count": 34
        }
      ]
    },
    {
      "cell_type": "code",
      "source": [
        "# Find min, max\n",
        "torch.min(x),torch.max(x)"
      ],
      "metadata": {
        "colab": {
          "base_uri": "https://localhost:8080/"
        },
        "id": "40opjzesbzLt",
        "outputId": "9f46f885-fff1-4f37-b646-9f4df0364d6c"
      },
      "execution_count": 36,
      "outputs": [
        {
          "output_type": "execute_result",
          "data": {
            "text/plain": [
              "(tensor(0), tensor(90))"
            ]
          },
          "metadata": {},
          "execution_count": 36
        }
      ]
    },
    {
      "cell_type": "code",
      "source": [
        "# Find mean\n",
        "# Common Error - Input dtype must be either a floating point or complex dtype. Got: Long\n",
        "torch.mean(x.type(torch.float32))"
      ],
      "metadata": {
        "colab": {
          "base_uri": "https://localhost:8080/"
        },
        "id": "Z4DuV6zHcKYW",
        "outputId": "830d14b1-c0ac-4ee6-d47a-bc7d3bd20756"
      },
      "execution_count": 39,
      "outputs": [
        {
          "output_type": "execute_result",
          "data": {
            "text/plain": [
              "tensor(45.)"
            ]
          },
          "metadata": {},
          "execution_count": 39
        }
      ]
    },
    {
      "cell_type": "code",
      "source": [
        "# Find the sum\n",
        "torch.sum(x), x.sum()"
      ],
      "metadata": {
        "colab": {
          "base_uri": "https://localhost:8080/"
        },
        "id": "WUVXNCjscUp5",
        "outputId": "138e7745-2c7c-496a-f2bd-ea51774e59e6"
      },
      "execution_count": 41,
      "outputs": [
        {
          "output_type": "execute_result",
          "data": {
            "text/plain": [
              "(tensor(450), tensor(450))"
            ]
          },
          "metadata": {},
          "execution_count": 41
        }
      ]
    },
    {
      "cell_type": "code",
      "source": [],
      "metadata": {
        "id": "s0Lgtr2zdGP4"
      },
      "execution_count": null,
      "outputs": []
    }
  ]
}