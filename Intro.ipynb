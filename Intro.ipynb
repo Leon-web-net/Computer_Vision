{
  "nbformat": 4,
  "nbformat_minor": 0,
  "metadata": {
    "colab": {
      "provenance": [],
      "gpuType": "T4",
      "authorship_tag": "ABX9TyNUgsyXzAnDNzS/bjYAfn/W",
      "include_colab_link": true
    },
    "kernelspec": {
      "name": "python3",
      "display_name": "Python 3"
    },
    "language_info": {
      "name": "python"
    },
    "accelerator": "GPU"
  },
  "cells": [
    {
      "cell_type": "markdown",
      "metadata": {
        "id": "view-in-github",
        "colab_type": "text"
      },
      "source": [
        "<a href=\"https://colab.research.google.com/github/Leon-web-net/Machine_Learning/blob/Intro%2Fbasics/Intro.ipynb\" target=\"_parent\"><img src=\"https://colab.research.google.com/assets/colab-badge.svg\" alt=\"Open In Colab\"/></a>"
      ]
    },
    {
      "cell_type": "code",
      "execution_count": 1,
      "metadata": {
        "colab": {
          "base_uri": "https://localhost:8080/"
        },
        "id": "oIXRNLSLKAu1",
        "outputId": "3ce5fc73-74ed-4209-93d1-d7f14d6cf225"
      },
      "outputs": [
        {
          "output_type": "stream",
          "name": "stdout",
          "text": [
            "2.0.1+cu118\n"
          ]
        }
      ],
      "source": [
        "import torch\n",
        "import pandas as pd\n",
        "import numpy as np\n",
        "import matplotlib.pyplot as plt\n",
        "print(torch.__version__)"
      ]
    },
    {
      "cell_type": "code",
      "source": [
        "#scalar\n",
        "scalar = torch.tensor(7)\n",
        "scalar"
      ],
      "metadata": {
        "colab": {
          "base_uri": "https://localhost:8080/"
        },
        "id": "w_r9n7rEKGwG",
        "outputId": "dfef69d9-0df3-4f71-d012-18693354adf0"
      },
      "execution_count": 2,
      "outputs": [
        {
          "output_type": "execute_result",
          "data": {
            "text/plain": [
              "tensor(7)"
            ]
          },
          "metadata": {},
          "execution_count": 2
        }
      ]
    },
    {
      "cell_type": "code",
      "source": [
        "scalar.ndim\n",
        "scalar.item()"
      ],
      "metadata": {
        "colab": {
          "base_uri": "https://localhost:8080/"
        },
        "id": "25rRFg-WMDC7",
        "outputId": "2bb55560-4971-43d8-fd80-a1a97bf7fd2e"
      },
      "execution_count": 3,
      "outputs": [
        {
          "output_type": "execute_result",
          "data": {
            "text/plain": [
              "7"
            ]
          },
          "metadata": {},
          "execution_count": 3
        }
      ]
    },
    {
      "cell_type": "code",
      "source": [
        "# Vector\n",
        "vector = torch.tensor([7,4])\n",
        "vector\n",
        "for i in vector:\n",
        "  print(i.item())\n",
        "\n",
        "vector.ndim"
      ],
      "metadata": {
        "colab": {
          "base_uri": "https://localhost:8080/"
        },
        "id": "hwpEB8_7MT19",
        "outputId": "93f9296c-4203-401f-808d-110939bfdcd6"
      },
      "execution_count": 4,
      "outputs": [
        {
          "output_type": "stream",
          "name": "stdout",
          "text": [
            "7\n",
            "4\n"
          ]
        },
        {
          "output_type": "execute_result",
          "data": {
            "text/plain": [
              "1"
            ]
          },
          "metadata": {},
          "execution_count": 4
        }
      ]
    },
    {
      "cell_type": "code",
      "source": [
        "vector.shape"
      ],
      "metadata": {
        "colab": {
          "base_uri": "https://localhost:8080/"
        },
        "id": "G0XV9d0GM7Kp",
        "outputId": "346b6188-d072-4293-e3f1-7d9be3044e83"
      },
      "execution_count": 5,
      "outputs": [
        {
          "output_type": "execute_result",
          "data": {
            "text/plain": [
              "torch.Size([2])"
            ]
          },
          "metadata": {},
          "execution_count": 5
        }
      ]
    },
    {
      "cell_type": "code",
      "source": [
        "# MATRIX\n",
        "matrix = torch.tensor([[7,6],[5,5]])\n",
        "matrix.ndim"
      ],
      "metadata": {
        "colab": {
          "base_uri": "https://localhost:8080/"
        },
        "id": "2OywSYAeNJi6",
        "outputId": "1915495d-d680-4152-a6fc-5992724a4ff5"
      },
      "execution_count": 6,
      "outputs": [
        {
          "output_type": "execute_result",
          "data": {
            "text/plain": [
              "2"
            ]
          },
          "metadata": {},
          "execution_count": 6
        }
      ]
    },
    {
      "cell_type": "code",
      "source": [
        "matrix.shape"
      ],
      "metadata": {
        "colab": {
          "base_uri": "https://localhost:8080/"
        },
        "id": "L845SXQsNaaU",
        "outputId": "05a4f99a-eb0e-4faa-b85d-b0e288b6ee05"
      },
      "execution_count": 7,
      "outputs": [
        {
          "output_type": "execute_result",
          "data": {
            "text/plain": [
              "torch.Size([2, 2])"
            ]
          },
          "metadata": {},
          "execution_count": 7
        }
      ]
    },
    {
      "cell_type": "code",
      "source": [
        "tensor = torch.tensor([[[2,2,3],[3,3,3],[3,4,4]]])\n",
        "tensor[0][1]"
      ],
      "metadata": {
        "id": "qu9H1et-Ng8E",
        "colab": {
          "base_uri": "https://localhost:8080/"
        },
        "outputId": "8df50df0-d53f-424b-bcaa-804378af5bb2"
      },
      "execution_count": 8,
      "outputs": [
        {
          "output_type": "execute_result",
          "data": {
            "text/plain": [
              "tensor([3, 3, 3])"
            ]
          },
          "metadata": {},
          "execution_count": 8
        }
      ]
    },
    {
      "cell_type": "markdown",
      "source": [
        "#Random Tensors#\n",
        "Why random tensors?\n",
        "\n",
        "Important for neural networks as they learn starting with tensors full of random numbers and adjust those to better represent the data.\n",
        "\n",
        "`random numbers -> look at data -> update random numbers -> look at data -> update random numbers`\n"
      ],
      "metadata": {
        "id": "7o9oGxWoBtYi"
      }
    },
    {
      "cell_type": "code",
      "source": [
        "# create a random tensor of shape (3,4)\n",
        "random_tensor = torch.rand(3,4,5)\n",
        "random_tensor"
      ],
      "metadata": {
        "id": "oAC4hLxLBw5G",
        "colab": {
          "base_uri": "https://localhost:8080/"
        },
        "outputId": "b7f57e6c-976f-4216-c166-76e0e8e95ccf"
      },
      "execution_count": 9,
      "outputs": [
        {
          "output_type": "execute_result",
          "data": {
            "text/plain": [
              "tensor([[[0.4203, 0.0921, 0.4392, 0.9858, 0.4640],\n",
              "         [0.4064, 0.8028, 0.5873, 0.9868, 0.8370],\n",
              "         [0.5205, 0.6624, 0.5742, 0.9543, 0.1590],\n",
              "         [0.4088, 0.9998, 0.0064, 0.9690, 0.6471]],\n",
              "\n",
              "        [[0.0866, 0.1727, 0.1340, 0.6709, 0.1161],\n",
              "         [0.2809, 0.8061, 0.7723, 0.9705, 0.3841],\n",
              "         [0.0425, 0.8160, 0.3688, 0.4006, 0.5095],\n",
              "         [0.2641, 0.2829, 0.1458, 0.3890, 0.2013]],\n",
              "\n",
              "        [[0.3871, 0.5821, 0.6457, 0.6762, 0.9858],\n",
              "         [0.1782, 0.1475, 0.1624, 0.4234, 0.9558],\n",
              "         [0.4508, 0.1019, 0.2889, 0.1041, 0.4975],\n",
              "         [0.1603, 0.1173, 0.4162, 0.5644, 0.5025]]])"
            ]
          },
          "metadata": {},
          "execution_count": 9
        }
      ]
    },
    {
      "cell_type": "markdown",
      "source": [
        "Create random tensor with similar shape to Image tensor.\n",
        "\n",
        "height width colour channel (R, G, B)"
      ],
      "metadata": {
        "id": "QIs3udjHHeXP"
      }
    },
    {
      "cell_type": "code",
      "source": [
        "random_img_tensor = torch.rand(size=(3,224,224))\n",
        "random_img_tensor.shape, random_img_tensor.ndim"
      ],
      "metadata": {
        "colab": {
          "base_uri": "https://localhost:8080/"
        },
        "id": "ugfeAf8SGU-Y",
        "outputId": "609ea2db-d668-4b1b-fbec-53fd9821c66a"
      },
      "execution_count": 10,
      "outputs": [
        {
          "output_type": "execute_result",
          "data": {
            "text/plain": [
              "(torch.Size([3, 224, 224]), 3)"
            ]
          },
          "metadata": {},
          "execution_count": 10
        }
      ]
    },
    {
      "cell_type": "markdown",
      "source": [
        "# Zeros and Ones"
      ],
      "metadata": {
        "id": "50Viy8fiJ4Tc"
      }
    },
    {
      "cell_type": "code",
      "source": [
        "# create a tensor of all zeros (for creating a mask)\n",
        "zeros = torch.zeros(size=(3,4))\n",
        "zeros[0][0]=1\n",
        "zeros[1][1]=1\n",
        "tensorA = torch.rand(size=(3,1))\n",
        "tensorA, zeros"
      ],
      "metadata": {
        "colab": {
          "base_uri": "https://localhost:8080/"
        },
        "id": "Zwkn_DavJ-6e",
        "outputId": "4ea461d3-342e-4b2f-d49a-6c9d25468c78"
      },
      "execution_count": 11,
      "outputs": [
        {
          "output_type": "execute_result",
          "data": {
            "text/plain": [
              "(tensor([[0.7715],\n",
              "         [0.3516],\n",
              "         [0.0409]]),\n",
              " tensor([[1., 0., 0., 0.],\n",
              "         [0., 1., 0., 0.],\n",
              "         [0., 0., 0., 0.]]))"
            ]
          },
          "metadata": {},
          "execution_count": 11
        }
      ]
    },
    {
      "cell_type": "code",
      "source": [
        "tensorA*zeros"
      ],
      "metadata": {
        "id": "GcGVveBIOd37",
        "colab": {
          "base_uri": "https://localhost:8080/"
        },
        "outputId": "713f7a90-12d7-4a6b-92a9-87c9074e9353"
      },
      "execution_count": 12,
      "outputs": [
        {
          "output_type": "execute_result",
          "data": {
            "text/plain": [
              "tensor([[0.7715, 0.0000, 0.0000, 0.0000],\n",
              "        [0.0000, 0.3516, 0.0000, 0.0000],\n",
              "        [0.0000, 0.0000, 0.0000, 0.0000]])"
            ]
          },
          "metadata": {},
          "execution_count": 12
        }
      ]
    },
    {
      "cell_type": "code",
      "source": [
        "zeros.dtype # default float32"
      ],
      "metadata": {
        "colab": {
          "base_uri": "https://localhost:8080/"
        },
        "id": "VI8tN0JLnVcI",
        "outputId": "4fcf3049-b408-497a-c772-9ff6db6020c9"
      },
      "execution_count": 13,
      "outputs": [
        {
          "output_type": "execute_result",
          "data": {
            "text/plain": [
              "torch.float32"
            ]
          },
          "metadata": {},
          "execution_count": 13
        }
      ]
    },
    {
      "cell_type": "markdown",
      "source": [
        "#Creating Range of Tensors"
      ],
      "metadata": {
        "id": "-ZN8ZnU7o4Co"
      }
    },
    {
      "cell_type": "code",
      "source": [
        "# torch.arange()\n",
        "one_step_ten=torch.arange(start=0,end=10,step=2)\n",
        "one_step_ten"
      ],
      "metadata": {
        "colab": {
          "base_uri": "https://localhost:8080/"
        },
        "id": "9iyH9IB9o_kp",
        "outputId": "64b03e3f-be9b-4905-e3ed-ee73e5b1fd97"
      },
      "execution_count": 14,
      "outputs": [
        {
          "output_type": "execute_result",
          "data": {
            "text/plain": [
              "tensor([0, 2, 4, 6, 8])"
            ]
          },
          "metadata": {},
          "execution_count": 14
        }
      ]
    },
    {
      "cell_type": "code",
      "source": [
        "# creating tensors like\n",
        "zero_like = torch.zeros_like(input=one_step_ten)\n",
        "zero_like"
      ],
      "metadata": {
        "colab": {
          "base_uri": "https://localhost:8080/"
        },
        "id": "xHKx0m6spEHb",
        "outputId": "7ac0e8f1-5046-4683-c14b-a26d5727cb18"
      },
      "execution_count": 15,
      "outputs": [
        {
          "output_type": "execute_result",
          "data": {
            "text/plain": [
              "tensor([0, 0, 0, 0, 0])"
            ]
          },
          "metadata": {},
          "execution_count": 15
        }
      ]
    },
    {
      "cell_type": "markdown",
      "source": [
        "#Tensor Datatypes\n",
        "\n",
        "**3 Big Errors**\n",
        "\n",
        "\n",
        "1.   Tensor not right datatype\n",
        "2.   Tensor not right shape\n",
        "1.   Tensor not on the right device\n",
        "\n"
      ],
      "metadata": {
        "id": "E7ezu9Tgq1CA"
      }
    },
    {
      "cell_type": "code",
      "source": [
        "# Float 32 tensor\n",
        "float_32_tensor = torch.tensor([3.0,6,9],\n",
        "                               dtype=None,\n",
        "                               device=\"cuda\", # what device: cpu, gpu, tpu, etc\n",
        "                               requires_grad=False)\n",
        "float_16_tensor = torch.tensor([3.0,6,9], dtype=torch.float16, device=\"cuda\")\n",
        "float_32_tensor"
      ],
      "metadata": {
        "colab": {
          "base_uri": "https://localhost:8080/"
        },
        "id": "8Yq3XZSTq4PP",
        "outputId": "3597e183-8588-42a8-9c06-e2d57853715e"
      },
      "execution_count": 19,
      "outputs": [
        {
          "output_type": "execute_result",
          "data": {
            "text/plain": [
              "tensor([3., 6., 9.], device='cuda:0')"
            ]
          },
          "metadata": {},
          "execution_count": 19
        }
      ]
    },
    {
      "cell_type": "code",
      "source": [
        "float_32_tensor.dtype"
      ],
      "metadata": {
        "colab": {
          "base_uri": "https://localhost:8080/"
        },
        "id": "VZn2BEI1rH1n",
        "outputId": "03e89c22-dbef-4e82-ccdb-88e57f627bd7"
      },
      "execution_count": 17,
      "outputs": [
        {
          "output_type": "execute_result",
          "data": {
            "text/plain": [
              "torch.float32"
            ]
          },
          "metadata": {},
          "execution_count": 17
        }
      ]
    },
    {
      "cell_type": "code",
      "source": [
        "float_32_tensor*float_16_tensor"
      ],
      "metadata": {
        "colab": {
          "base_uri": "https://localhost:8080/"
        },
        "id": "lobYPHGyrR7Y",
        "outputId": "5772a706-e30d-4df5-e2ab-7d287ed07f06"
      },
      "execution_count": 20,
      "outputs": [
        {
          "output_type": "execute_result",
          "data": {
            "text/plain": [
              "tensor([ 9., 36., 81.], device='cuda:0')"
            ]
          },
          "metadata": {},
          "execution_count": 20
        }
      ]
    }
  ]
}