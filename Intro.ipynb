{
  "nbformat": 4,
  "nbformat_minor": 0,
  "metadata": {
    "colab": {
      "provenance": [],
      "gpuType": "T4",
      "authorship_tag": "ABX9TyMt1p0W0dxBfV47a5Rgvm2J",
      "include_colab_link": true
    },
    "kernelspec": {
      "name": "python3",
      "display_name": "Python 3"
    },
    "language_info": {
      "name": "python"
    },
    "accelerator": "GPU"
  },
  "cells": [
    {
      "cell_type": "markdown",
      "metadata": {
        "id": "view-in-github",
        "colab_type": "text"
      },
      "source": [
        "<a href=\"https://colab.research.google.com/github/Leon-web-net/Machine_Learning/blob/Intro%2Fbasics/Intro.ipynb\" target=\"_parent\"><img src=\"https://colab.research.google.com/assets/colab-badge.svg\" alt=\"Open In Colab\"/></a>"
      ]
    },
    {
      "cell_type": "code",
      "execution_count": 1,
      "metadata": {
        "colab": {
          "base_uri": "https://localhost:8080/"
        },
        "id": "oIXRNLSLKAu1",
        "outputId": "8aa707e2-9739-41f9-ad59-696e53ca6c88"
      },
      "outputs": [
        {
          "output_type": "stream",
          "name": "stdout",
          "text": [
            "2.0.1+cu118\n"
          ]
        }
      ],
      "source": [
        "import torch\n",
        "import pandas as pd\n",
        "import numpy as np\n",
        "import matplotlib.pyplot as plt\n",
        "print(torch.__version__)"
      ]
    },
    {
      "cell_type": "code",
      "source": [
        "#scalar\n",
        "scalar = torch.tensor(7)\n",
        "scalar"
      ],
      "metadata": {
        "colab": {
          "base_uri": "https://localhost:8080/"
        },
        "id": "w_r9n7rEKGwG",
        "outputId": "0a724e7e-9eaa-4d3b-98e9-01afca7f972d"
      },
      "execution_count": 2,
      "outputs": [
        {
          "output_type": "execute_result",
          "data": {
            "text/plain": [
              "tensor(7)"
            ]
          },
          "metadata": {},
          "execution_count": 2
        }
      ]
    },
    {
      "cell_type": "code",
      "source": [
        "scalar.ndim\n",
        "scalar.item()"
      ],
      "metadata": {
        "colab": {
          "base_uri": "https://localhost:8080/"
        },
        "id": "25rRFg-WMDC7",
        "outputId": "99603eb3-1d6b-4ee7-fbc6-2f6d099b529d"
      },
      "execution_count": 3,
      "outputs": [
        {
          "output_type": "execute_result",
          "data": {
            "text/plain": [
              "7"
            ]
          },
          "metadata": {},
          "execution_count": 3
        }
      ]
    },
    {
      "cell_type": "code",
      "source": [
        "# Vector\n",
        "vector = torch.tensor([7,4])\n",
        "vector\n",
        "for i in vector:\n",
        "  print(i.item())\n",
        "\n",
        "vector.ndim"
      ],
      "metadata": {
        "colab": {
          "base_uri": "https://localhost:8080/"
        },
        "id": "hwpEB8_7MT19",
        "outputId": "bbcb0a3c-81b0-49c1-99fd-9ca84f056a55"
      },
      "execution_count": 4,
      "outputs": [
        {
          "output_type": "stream",
          "name": "stdout",
          "text": [
            "7\n",
            "4\n"
          ]
        },
        {
          "output_type": "execute_result",
          "data": {
            "text/plain": [
              "1"
            ]
          },
          "metadata": {},
          "execution_count": 4
        }
      ]
    },
    {
      "cell_type": "code",
      "source": [
        "vector.shape"
      ],
      "metadata": {
        "colab": {
          "base_uri": "https://localhost:8080/"
        },
        "id": "G0XV9d0GM7Kp",
        "outputId": "f4188cd8-6d3c-435e-968d-89df80e12376"
      },
      "execution_count": 5,
      "outputs": [
        {
          "output_type": "execute_result",
          "data": {
            "text/plain": [
              "torch.Size([2])"
            ]
          },
          "metadata": {},
          "execution_count": 5
        }
      ]
    },
    {
      "cell_type": "code",
      "source": [
        "# MATRIX\n",
        "matrix = torch.tensor([[7,6],[5,5]])\n",
        "matrix.ndim"
      ],
      "metadata": {
        "colab": {
          "base_uri": "https://localhost:8080/"
        },
        "id": "2OywSYAeNJi6",
        "outputId": "90fad1b2-c26c-47f6-ec27-8481a452abd6"
      },
      "execution_count": 6,
      "outputs": [
        {
          "output_type": "execute_result",
          "data": {
            "text/plain": [
              "2"
            ]
          },
          "metadata": {},
          "execution_count": 6
        }
      ]
    },
    {
      "cell_type": "code",
      "source": [
        "matrix.shape"
      ],
      "metadata": {
        "colab": {
          "base_uri": "https://localhost:8080/"
        },
        "id": "L845SXQsNaaU",
        "outputId": "4d449dd7-cd02-45f2-a16c-11e2adc0d1c1"
      },
      "execution_count": 7,
      "outputs": [
        {
          "output_type": "execute_result",
          "data": {
            "text/plain": [
              "torch.Size([2, 2])"
            ]
          },
          "metadata": {},
          "execution_count": 7
        }
      ]
    },
    {
      "cell_type": "code",
      "source": [
        "tensor = torch.tensor([[[2,2,3],[3,3,3],[3,4,4]]])\n",
        "tensor[0][1]"
      ],
      "metadata": {
        "id": "qu9H1et-Ng8E",
        "colab": {
          "base_uri": "https://localhost:8080/"
        },
        "outputId": "caf008c4-8e57-41b3-880c-6f4e1fcae2c8"
      },
      "execution_count": 8,
      "outputs": [
        {
          "output_type": "execute_result",
          "data": {
            "text/plain": [
              "tensor([3, 3, 3])"
            ]
          },
          "metadata": {},
          "execution_count": 8
        }
      ]
    },
    {
      "cell_type": "markdown",
      "source": [
        "#Random Tensors#\n",
        "Why random tensors?\n",
        "\n",
        "Important for neural networks as they learn starting with tensors full of random numbers and adjust those to better represent the data.\n",
        "\n",
        "`random numbers -> look at data -> update random numbers -> look at data -> update random numbers`\n"
      ],
      "metadata": {
        "id": "7o9oGxWoBtYi"
      }
    },
    {
      "cell_type": "code",
      "source": [
        "# create a random tensor of shape (3,4)\n",
        "random_tensor = torch.rand(3,4,5)\n",
        "random_tensor"
      ],
      "metadata": {
        "id": "oAC4hLxLBw5G",
        "colab": {
          "base_uri": "https://localhost:8080/"
        },
        "outputId": "dd0618c0-0a7d-4374-da95-604de9bc2fb3"
      },
      "execution_count": 9,
      "outputs": [
        {
          "output_type": "execute_result",
          "data": {
            "text/plain": [
              "tensor([[[0.6034, 0.8227, 0.6741, 0.3788, 0.2657],\n",
              "         [0.5927, 0.9073, 0.6421, 0.2358, 0.1078],\n",
              "         [0.1361, 0.9295, 0.6755, 0.4137, 0.7102],\n",
              "         [0.8763, 0.9177, 0.2611, 0.7130, 0.1813]],\n",
              "\n",
              "        [[0.4988, 0.8326, 0.9947, 0.0488, 0.2604],\n",
              "         [0.1637, 0.9728, 0.8255, 0.8461, 0.7764],\n",
              "         [0.2515, 0.6308, 0.8328, 0.9414, 0.5448],\n",
              "         [0.3938, 0.0020, 0.2091, 0.2992, 0.9760]],\n",
              "\n",
              "        [[0.9060, 0.4328, 0.1431, 0.6447, 0.8622],\n",
              "         [0.9566, 0.0825, 0.8704, 0.8039, 0.8270],\n",
              "         [0.6358, 0.7485, 0.0646, 0.8193, 0.5849],\n",
              "         [0.4283, 0.6474, 0.0805, 0.1185, 0.6545]]])"
            ]
          },
          "metadata": {},
          "execution_count": 9
        }
      ]
    },
    {
      "cell_type": "markdown",
      "source": [
        "Create random tensor with similar shape to Image tensor.\n",
        "\n",
        "height width colour channel (R, G, B)"
      ],
      "metadata": {
        "id": "QIs3udjHHeXP"
      }
    },
    {
      "cell_type": "code",
      "source": [
        "random_img_tensor = torch.rand(size=(3,224,224))\n",
        "random_img_tensor.shape, random_img_tensor.ndim"
      ],
      "metadata": {
        "colab": {
          "base_uri": "https://localhost:8080/"
        },
        "id": "ugfeAf8SGU-Y",
        "outputId": "32c76453-0b4f-4fff-9c20-2d6357e65cab"
      },
      "execution_count": 10,
      "outputs": [
        {
          "output_type": "execute_result",
          "data": {
            "text/plain": [
              "(torch.Size([3, 224, 224]), 3)"
            ]
          },
          "metadata": {},
          "execution_count": 10
        }
      ]
    },
    {
      "cell_type": "markdown",
      "source": [
        "# Zeros and Ones"
      ],
      "metadata": {
        "id": "50Viy8fiJ4Tc"
      }
    },
    {
      "cell_type": "code",
      "source": [
        "# create a tensor of all zeros (for creating a mask)\n",
        "zeros = torch.zeros(size=(3,4))\n",
        "zeros[0][0]=1\n",
        "zeros[1][1]=1\n",
        "tensorA = torch.rand(size=(3,1))\n",
        "tensorA, zeros"
      ],
      "metadata": {
        "colab": {
          "base_uri": "https://localhost:8080/"
        },
        "id": "Zwkn_DavJ-6e",
        "outputId": "5bd62fdd-ad6f-4ff0-8485-4cf902ce7b88"
      },
      "execution_count": 11,
      "outputs": [
        {
          "output_type": "execute_result",
          "data": {
            "text/plain": [
              "(tensor([[0.6449],\n",
              "         [0.0411],\n",
              "         [0.2727]]),\n",
              " tensor([[1., 0., 0., 0.],\n",
              "         [0., 1., 0., 0.],\n",
              "         [0., 0., 0., 0.]]))"
            ]
          },
          "metadata": {},
          "execution_count": 11
        }
      ]
    },
    {
      "cell_type": "code",
      "source": [
        "tensorA*zeros"
      ],
      "metadata": {
        "id": "GcGVveBIOd37",
        "colab": {
          "base_uri": "https://localhost:8080/"
        },
        "outputId": "4d8237c1-454c-48e4-ffc8-d3c991e9ba6f"
      },
      "execution_count": 12,
      "outputs": [
        {
          "output_type": "execute_result",
          "data": {
            "text/plain": [
              "tensor([[0.6449, 0.0000, 0.0000, 0.0000],\n",
              "        [0.0000, 0.0411, 0.0000, 0.0000],\n",
              "        [0.0000, 0.0000, 0.0000, 0.0000]])"
            ]
          },
          "metadata": {},
          "execution_count": 12
        }
      ]
    },
    {
      "cell_type": "code",
      "source": [
        "zeros.dtype # default float32"
      ],
      "metadata": {
        "colab": {
          "base_uri": "https://localhost:8080/"
        },
        "id": "VI8tN0JLnVcI",
        "outputId": "099b2a0b-9c6d-40be-a5cd-2e9d6df28426"
      },
      "execution_count": 13,
      "outputs": [
        {
          "output_type": "execute_result",
          "data": {
            "text/plain": [
              "torch.float32"
            ]
          },
          "metadata": {},
          "execution_count": 13
        }
      ]
    },
    {
      "cell_type": "markdown",
      "source": [
        "#Creating Range of Tensors"
      ],
      "metadata": {
        "id": "-ZN8ZnU7o4Co"
      }
    },
    {
      "cell_type": "code",
      "source": [
        "# torch.arange()\n",
        "one_step_ten=torch.arange(start=0,end=10,step=2)\n",
        "one_step_ten"
      ],
      "metadata": {
        "colab": {
          "base_uri": "https://localhost:8080/"
        },
        "id": "9iyH9IB9o_kp",
        "outputId": "bb35716f-6c7a-4352-c335-ea06ace44005"
      },
      "execution_count": 14,
      "outputs": [
        {
          "output_type": "execute_result",
          "data": {
            "text/plain": [
              "tensor([0, 2, 4, 6, 8])"
            ]
          },
          "metadata": {},
          "execution_count": 14
        }
      ]
    },
    {
      "cell_type": "code",
      "source": [
        "# creating tensors like\n",
        "zero_like = torch.zeros_like(input=one_step_ten)\n",
        "zero_like"
      ],
      "metadata": {
        "colab": {
          "base_uri": "https://localhost:8080/"
        },
        "id": "xHKx0m6spEHb",
        "outputId": "8e23d0c8-efdf-493b-beff-f9b0a8847e24"
      },
      "execution_count": 15,
      "outputs": [
        {
          "output_type": "execute_result",
          "data": {
            "text/plain": [
              "tensor([0, 0, 0, 0, 0])"
            ]
          },
          "metadata": {},
          "execution_count": 15
        }
      ]
    },
    {
      "cell_type": "markdown",
      "source": [
        "#Tensor Datatypes\n",
        "\n",
        "**3 Big Errors**\n",
        "\n",
        "\n",
        "1.   Tensor not right datatype\n",
        "2.   Tensor not right shape\n",
        "1.   Tensor not on the right device\n",
        "\n"
      ],
      "metadata": {
        "id": "E7ezu9Tgq1CA"
      }
    },
    {
      "cell_type": "code",
      "source": [
        "# Float 32 tensor\n",
        "float_32_tensor = torch.tensor([3.0,6,9],\n",
        "                               dtype=None,\n",
        "                               device=\"cuda\", # what device: cpu, gpu, tpu, etc\n",
        "                               requires_grad=False)\n",
        "float_16_tensor = torch.tensor([3.0,6,9], dtype=torch.float16, device=\"cuda\")\n",
        "float_32_tensor"
      ],
      "metadata": {
        "colab": {
          "base_uri": "https://localhost:8080/"
        },
        "id": "8Yq3XZSTq4PP",
        "outputId": "9c75c2ca-ec42-4f04-b6b4-96e90371926c"
      },
      "execution_count": 16,
      "outputs": [
        {
          "output_type": "execute_result",
          "data": {
            "text/plain": [
              "tensor([3., 6., 9.], device='cuda:0')"
            ]
          },
          "metadata": {},
          "execution_count": 16
        }
      ]
    },
    {
      "cell_type": "code",
      "source": [
        "float_32_tensor.dtype"
      ],
      "metadata": {
        "colab": {
          "base_uri": "https://localhost:8080/"
        },
        "id": "VZn2BEI1rH1n",
        "outputId": "8288640b-0451-480d-9e68-2aaccad3dde8"
      },
      "execution_count": 17,
      "outputs": [
        {
          "output_type": "execute_result",
          "data": {
            "text/plain": [
              "torch.float32"
            ]
          },
          "metadata": {},
          "execution_count": 17
        }
      ]
    },
    {
      "cell_type": "code",
      "source": [
        "float_32_tensor*float_16_tensor"
      ],
      "metadata": {
        "colab": {
          "base_uri": "https://localhost:8080/"
        },
        "id": "lobYPHGyrR7Y",
        "outputId": "f5bbc3c8-2dac-4894-f450-f2b805d2e809"
      },
      "execution_count": 18,
      "outputs": [
        {
          "output_type": "execute_result",
          "data": {
            "text/plain": [
              "tensor([ 9., 36., 81.], device='cuda:0')"
            ]
          },
          "metadata": {},
          "execution_count": 18
        }
      ]
    },
    {
      "cell_type": "markdown",
      "source": [
        "#Getting information from tensor\n",
        "\n",
        "\n",
        "1.   Datatype: tensor.dtype\n",
        "2.   Tensor shape: tensor.shape\n",
        "\n",
        "1.   Tensor device: tensor.device\n",
        "\n",
        "\n",
        "\n",
        "\n",
        "\n"
      ],
      "metadata": {
        "id": "L1gwgAQBvsB1"
      }
    },
    {
      "cell_type": "code",
      "source": [
        "some_tensor = torch.rand(3,4)\n",
        "some_tensor"
      ],
      "metadata": {
        "colab": {
          "base_uri": "https://localhost:8080/"
        },
        "id": "9DFZD1RCvlZx",
        "outputId": "8c10aabe-0e2a-44d3-a09a-3a2b5ee005e5"
      },
      "execution_count": 19,
      "outputs": [
        {
          "output_type": "execute_result",
          "data": {
            "text/plain": [
              "tensor([[0.4569, 0.2960, 0.8551, 0.4670],\n",
              "        [0.9783, 0.1497, 0.1093, 0.2197],\n",
              "        [0.9535, 0.6904, 0.3260, 0.3562]])"
            ]
          },
          "metadata": {},
          "execution_count": 19
        }
      ]
    },
    {
      "cell_type": "code",
      "source": [
        "print(some_tensor.dtype, some_tensor.shape,some_tensor.device,)"
      ],
      "metadata": {
        "colab": {
          "base_uri": "https://localhost:8080/"
        },
        "id": "iSvIOuY7vpbU",
        "outputId": "8a5ff89c-ba1c-4764-f2a1-7e09ab7f5a28"
      },
      "execution_count": 20,
      "outputs": [
        {
          "output_type": "stream",
          "name": "stdout",
          "text": [
            "torch.float32 torch.Size([3, 4]) cpu\n"
          ]
        }
      ]
    },
    {
      "cell_type": "markdown",
      "source": [
        "# Tensor Operations\n",
        "\n",
        "\n",
        "\n",
        "*   Addition\n",
        "*   Subtraction\n",
        "*   Multiplication\n",
        "*   Division\n",
        "*   Matrix multiplication\n",
        "\n"
      ],
      "metadata": {
        "id": "Z1_ey4Hfwy6a"
      }
    },
    {
      "cell_type": "code",
      "source": [
        "# Create tensor\n",
        "tensor = torch.tensor([1,2,3])\n",
        "# Add\n",
        "tensor + 10"
      ],
      "metadata": {
        "colab": {
          "base_uri": "https://localhost:8080/"
        },
        "id": "nuV-_lvQw1xR",
        "outputId": "b6ae0a99-b31d-47d1-cac1-e8437d6fb9a0"
      },
      "execution_count": 21,
      "outputs": [
        {
          "output_type": "execute_result",
          "data": {
            "text/plain": [
              "tensor([11, 12, 13])"
            ]
          },
          "metadata": {},
          "execution_count": 21
        }
      ]
    },
    {
      "cell_type": "code",
      "source": [
        "# Sub\n",
        "tensor - 10"
      ],
      "metadata": {
        "colab": {
          "base_uri": "https://localhost:8080/"
        },
        "id": "t1X2USwoxZkg",
        "outputId": "aae1b093-5374-45c4-b388-028036552a6e"
      },
      "execution_count": 22,
      "outputs": [
        {
          "output_type": "execute_result",
          "data": {
            "text/plain": [
              "tensor([-9, -8, -7])"
            ]
          },
          "metadata": {},
          "execution_count": 22
        }
      ]
    },
    {
      "cell_type": "code",
      "source": [
        "# Multiply\n",
        "tensor*10"
      ],
      "metadata": {
        "colab": {
          "base_uri": "https://localhost:8080/"
        },
        "id": "wH0uRoYWxh_Z",
        "outputId": "b2832a38-5902-4601-db1f-8c06569ed35c"
      },
      "execution_count": 23,
      "outputs": [
        {
          "output_type": "execute_result",
          "data": {
            "text/plain": [
              "tensor([10, 20, 30])"
            ]
          },
          "metadata": {},
          "execution_count": 23
        }
      ]
    },
    {
      "cell_type": "code",
      "source": [
        "# Divide\n",
        "tensor/10"
      ],
      "metadata": {
        "colab": {
          "base_uri": "https://localhost:8080/"
        },
        "id": "LmhLseFDxlPh",
        "outputId": "8462d4b1-eecd-41d8-f721-d7a24aad03d2"
      },
      "execution_count": 24,
      "outputs": [
        {
          "output_type": "execute_result",
          "data": {
            "text/plain": [
              "tensor([0.1000, 0.2000, 0.3000])"
            ]
          },
          "metadata": {},
          "execution_count": 24
        }
      ]
    },
    {
      "cell_type": "code",
      "source": [
        "# Matrix multipliaction (dot product)\n",
        "tensor * tensor"
      ],
      "metadata": {
        "colab": {
          "base_uri": "https://localhost:8080/"
        },
        "id": "MKgSuXwxxn0J",
        "outputId": "b80b64eb-90bb-4413-8ec6-a4ecd918cb9f"
      },
      "execution_count": 25,
      "outputs": [
        {
          "output_type": "execute_result",
          "data": {
            "text/plain": [
              "tensor([1, 4, 9])"
            ]
          },
          "metadata": {},
          "execution_count": 25
        }
      ]
    },
    {
      "cell_type": "code",
      "source": [
        "torch.matmul(tensor, tensor)"
      ],
      "metadata": {
        "colab": {
          "base_uri": "https://localhost:8080/"
        },
        "id": "OyFm_wGTypwr",
        "outputId": "9eb1c758-2485-4f5e-9be2-ec66a336af84"
      },
      "execution_count": 26,
      "outputs": [
        {
          "output_type": "execute_result",
          "data": {
            "text/plain": [
              "tensor(14)"
            ]
          },
          "metadata": {},
          "execution_count": 26
        }
      ]
    },
    {
      "cell_type": "code",
      "source": [
        "%%time\n",
        "value = 0\n",
        "for i in range(len(tensor)):\n",
        "  value+= tensor[i] *tensor[i]\n",
        "\n",
        "print(value)"
      ],
      "metadata": {
        "id": "eVAG5gmcy2y6",
        "colab": {
          "base_uri": "https://localhost:8080/"
        },
        "outputId": "31b01b73-1891-4b08-fd5d-14369ff5ec82"
      },
      "execution_count": 27,
      "outputs": [
        {
          "output_type": "stream",
          "name": "stdout",
          "text": [
            "tensor(14)\n",
            "CPU times: user 545 µs, sys: 0 ns, total: 545 µs\n",
            "Wall time: 553 µs\n"
          ]
        }
      ]
    },
    {
      "cell_type": "code",
      "source": [
        "%%time\n",
        "torch.matmul(tensor, tensor)"
      ],
      "metadata": {
        "colab": {
          "base_uri": "https://localhost:8080/"
        },
        "id": "RD4p1iR4WjK0",
        "outputId": "349c8434-54b0-4dd2-9419-bb604eaec550"
      },
      "execution_count": 28,
      "outputs": [
        {
          "output_type": "stream",
          "name": "stdout",
          "text": [
            "CPU times: user 70 µs, sys: 0 ns, total: 70 µs\n",
            "Wall time: 74.6 µs\n"
          ]
        },
        {
          "output_type": "execute_result",
          "data": {
            "text/plain": [
              "tensor(14)"
            ]
          },
          "metadata": {},
          "execution_count": 28
        }
      ]
    },
    {
      "cell_type": "code",
      "source": [
        "tensor @ tensor"
      ],
      "metadata": {
        "colab": {
          "base_uri": "https://localhost:8080/"
        },
        "id": "_lZdSUSYX5W8",
        "outputId": "c2f3710b-ea55-4bbe-9e49-4689cbee1564"
      },
      "execution_count": 29,
      "outputs": [
        {
          "output_type": "execute_result",
          "data": {
            "text/plain": [
              "tensor(14)"
            ]
          },
          "metadata": {},
          "execution_count": 29
        }
      ]
    },
    {
      "cell_type": "markdown",
      "source": [
        "# Matrix Multiplication\n",
        "\n",
        "One of the most common errors in deep learning: shape errors.\n",
        "\n",
        "Two rule in matrix multiplication:\n",
        "\n",
        "\n",
        "1.   The **Inner Dimensions** must match:\n",
        "      * `(3,2) @ (3,2)` won't work\n",
        "      * `(2,3) @ (3,2)` will work\n",
        "      * `(3,2) @ (2,3)` will work\n",
        "\n",
        "\n",
        "2.   The resulting matrix has result of the **outer dimensions**\n",
        "   * ` (2,3) @ (3,2)` -> `(2,2)`\n",
        "   * `(2,100) @ (100,3)` -> `(2,3)`\n",
        "\n"
      ],
      "metadata": {
        "id": "1VVMe_nyXMNc"
      }
    },
    {
      "cell_type": "code",
      "source": [
        "torch.matmul(torch.rand(2,100), torch.rand(100,3))"
      ],
      "metadata": {
        "colab": {
          "base_uri": "https://localhost:8080/"
        },
        "id": "dueIEzDjXPYs",
        "outputId": "c35c0964-8f84-4f81-a1b1-93cee11fc66b"
      },
      "execution_count": 30,
      "outputs": [
        {
          "output_type": "execute_result",
          "data": {
            "text/plain": [
              "tensor([[27.7071, 29.5239, 26.2748],\n",
              "        [25.4458, 26.8344, 25.2525]])"
            ]
          },
          "metadata": {},
          "execution_count": 30
        }
      ]
    },
    {
      "cell_type": "code",
      "source": [
        "Tensor_A = torch.rand(2,3)\n",
        "Tensor_B = torch.rand(2,3)\n",
        "\n",
        "# torch.matmul(Tensor_A, Tensor_B)  does not work"
      ],
      "metadata": {
        "id": "igjIiMrPYWQc"
      },
      "execution_count": 31,
      "outputs": []
    },
    {
      "cell_type": "markdown",
      "source": [
        "To fix our tensor shape issues, we can manipulate the shape of one of our tensors using a transpose\n",
        "\n",
        "A **transpose** switches dimensions of given tensor"
      ],
      "metadata": {
        "id": "OXXbSYTVbsXK"
      }
    },
    {
      "cell_type": "code",
      "source": [
        "Tensor_A, Tensor_A.T"
      ],
      "metadata": {
        "colab": {
          "base_uri": "https://localhost:8080/"
        },
        "id": "NaooiFlGb6yl",
        "outputId": "7b114ab8-fc53-474a-88d8-282f681a5da8"
      },
      "execution_count": 32,
      "outputs": [
        {
          "output_type": "execute_result",
          "data": {
            "text/plain": [
              "(tensor([[0.7026, 0.3018, 0.6235],\n",
              "         [0.0141, 0.0630, 0.0537]]),\n",
              " tensor([[0.7026, 0.0141],\n",
              "         [0.3018, 0.0630],\n",
              "         [0.6235, 0.0537]]))"
            ]
          },
          "metadata": {},
          "execution_count": 32
        }
      ]
    },
    {
      "cell_type": "markdown",
      "source": [
        "# Finding Min Max Mean Sum\n",
        "(Tensor Aggregation)"
      ],
      "metadata": {
        "id": "Rd0QGAv-bky3"
      }
    },
    {
      "cell_type": "code",
      "source": [
        "# create tensor\n",
        "x = torch.arange(0,100,10)\n",
        "x"
      ],
      "metadata": {
        "colab": {
          "base_uri": "https://localhost:8080/"
        },
        "id": "hQJ45SUdbuGA",
        "outputId": "6318943a-0e28-426e-9edf-6bae6b08883e"
      },
      "execution_count": 33,
      "outputs": [
        {
          "output_type": "execute_result",
          "data": {
            "text/plain": [
              "tensor([ 0, 10, 20, 30, 40, 50, 60, 70, 80, 90])"
            ]
          },
          "metadata": {},
          "execution_count": 33
        }
      ]
    },
    {
      "cell_type": "code",
      "source": [
        "# Find min, max\n",
        "torch.min(x),torch.max(x)"
      ],
      "metadata": {
        "colab": {
          "base_uri": "https://localhost:8080/"
        },
        "id": "40opjzesbzLt",
        "outputId": "ec19544e-1423-4add-b829-aa2116235536"
      },
      "execution_count": 34,
      "outputs": [
        {
          "output_type": "execute_result",
          "data": {
            "text/plain": [
              "(tensor(0), tensor(90))"
            ]
          },
          "metadata": {},
          "execution_count": 34
        }
      ]
    },
    {
      "cell_type": "code",
      "source": [
        "# Find mean\n",
        "# Common Error - Input dtype must be either a floating point or complex dtype. Got: Long\n",
        "torch.mean(x.type(torch.float32))"
      ],
      "metadata": {
        "colab": {
          "base_uri": "https://localhost:8080/"
        },
        "id": "Z4DuV6zHcKYW",
        "outputId": "91cb36ee-b91b-4eee-8796-27305ae5c2e8"
      },
      "execution_count": 35,
      "outputs": [
        {
          "output_type": "execute_result",
          "data": {
            "text/plain": [
              "tensor(45.)"
            ]
          },
          "metadata": {},
          "execution_count": 35
        }
      ]
    },
    {
      "cell_type": "code",
      "source": [
        "# Find the sum\n",
        "torch.sum(x), x.sum()"
      ],
      "metadata": {
        "colab": {
          "base_uri": "https://localhost:8080/"
        },
        "id": "WUVXNCjscUp5",
        "outputId": "37a790a3-b793-423e-957d-3fc64a62b989"
      },
      "execution_count": 36,
      "outputs": [
        {
          "output_type": "execute_result",
          "data": {
            "text/plain": [
              "(tensor(450), tensor(450))"
            ]
          },
          "metadata": {},
          "execution_count": 36
        }
      ]
    },
    {
      "cell_type": "code",
      "source": [
        "# Finding positional min and max (The index)\n",
        "x.argmin(), x.argmax()"
      ],
      "metadata": {
        "colab": {
          "base_uri": "https://localhost:8080/"
        },
        "id": "s0Lgtr2zdGP4",
        "outputId": "3e52090a-2cb3-4d86-95e4-67b4abbd46e0"
      },
      "execution_count": 37,
      "outputs": [
        {
          "output_type": "execute_result",
          "data": {
            "text/plain": [
              "(tensor(0), tensor(9))"
            ]
          },
          "metadata": {},
          "execution_count": 37
        }
      ]
    },
    {
      "cell_type": "markdown",
      "source": [
        "# Reshaping Stacking Squeezing and Unsqueezing tensors\n",
        "\n",
        "* Reshaping - reshapes an input tensor to a defined shape\n",
        "* View - Return a view of an input tensor of certain shape but keep the same memory as the original tensor\n",
        "* Stacking - combine multiple tensors on top of each other (vstack) or side by side (hstack)\n",
        "* Squeeze - removes all `1` dimensions from a tensor\n",
        "* Unsqueeze - add a `1` dimension to a target tensor\n",
        "* Permute - Return aview of the input with the dimensions permuted (swapped0)in a certain way"
      ],
      "metadata": {
        "id": "aU1AtfQgeXb_"
      }
    },
    {
      "cell_type": "code",
      "source": [
        "# Create a tensor\n",
        "import torch\n",
        "x = torch.arange(1.,10.)\n",
        "my_tensor = torch.rand(3,5,2)\n",
        "x,x.shape , my_tensor"
      ],
      "metadata": {
        "colab": {
          "base_uri": "https://localhost:8080/"
        },
        "id": "CZPK1KnTfaNB",
        "outputId": "3ca3bf4a-c6f0-4954-a862-665fa1eb1a47"
      },
      "execution_count": 38,
      "outputs": [
        {
          "output_type": "execute_result",
          "data": {
            "text/plain": [
              "(tensor([1., 2., 3., 4., 5., 6., 7., 8., 9.]),\n",
              " torch.Size([9]),\n",
              " tensor([[[0.6968, 0.6538],\n",
              "          [0.4161, 0.7335],\n",
              "          [0.8170, 0.3034],\n",
              "          [0.7524, 0.5976],\n",
              "          [0.8976, 0.4672]],\n",
              " \n",
              "         [[0.7053, 0.6657],\n",
              "          [0.0408, 0.0041],\n",
              "          [0.3088, 0.1538],\n",
              "          [0.3274, 0.4256],\n",
              "          [0.0035, 0.9431]],\n",
              " \n",
              "         [[0.8413, 0.6598],\n",
              "          [0.2390, 0.2661],\n",
              "          [0.6095, 0.4743],\n",
              "          [0.2798, 0.5043],\n",
              "          [0.5989, 0.3813]]]))"
            ]
          },
          "metadata": {},
          "execution_count": 38
        }
      ]
    },
    {
      "cell_type": "code",
      "source": [
        "# Add an extra dimension\n",
        "x_reshaped = x.reshape(-1,1)\n",
        "x_reshaped, x_reshaped.shape"
      ],
      "metadata": {
        "colab": {
          "base_uri": "https://localhost:8080/"
        },
        "id": "hiXeNqazfkWd",
        "outputId": "06698b9a-4a83-4098-a45c-271b1099b53c"
      },
      "execution_count": 39,
      "outputs": [
        {
          "output_type": "execute_result",
          "data": {
            "text/plain": [
              "(tensor([[1.],\n",
              "         [2.],\n",
              "         [3.],\n",
              "         [4.],\n",
              "         [5.],\n",
              "         [6.],\n",
              "         [7.],\n",
              "         [8.],\n",
              "         [9.]]),\n",
              " torch.Size([9, 1]))"
            ]
          },
          "metadata": {},
          "execution_count": 39
        }
      ]
    },
    {
      "cell_type": "code",
      "source": [
        "# Change the view\n",
        "z = x.view(1,9)\n",
        "z, z.shape"
      ],
      "metadata": {
        "colab": {
          "base_uri": "https://localhost:8080/"
        },
        "id": "mEUTNtgJfvM1",
        "outputId": "2dd25ed2-fadb-40b8-df9e-cc3a2485df35"
      },
      "execution_count": 40,
      "outputs": [
        {
          "output_type": "execute_result",
          "data": {
            "text/plain": [
              "(tensor([[1., 2., 3., 4., 5., 6., 7., 8., 9.]]), torch.Size([1, 9]))"
            ]
          },
          "metadata": {},
          "execution_count": 40
        }
      ]
    },
    {
      "cell_type": "code",
      "source": [
        "# Changing z changes x (because a view of a tensor shares the same memory as the original)\n",
        "z [:,0] = 5\n",
        "z, x"
      ],
      "metadata": {
        "colab": {
          "base_uri": "https://localhost:8080/"
        },
        "id": "Q3C5wuHlg7n-",
        "outputId": "a785c218-843e-4105-e68a-59198fc1db9f"
      },
      "execution_count": 41,
      "outputs": [
        {
          "output_type": "execute_result",
          "data": {
            "text/plain": [
              "(tensor([[5., 2., 3., 4., 5., 6., 7., 8., 9.]]),\n",
              " tensor([5., 2., 3., 4., 5., 6., 7., 8., 9.]))"
            ]
          },
          "metadata": {},
          "execution_count": 41
        }
      ]
    },
    {
      "cell_type": "code",
      "source": [
        "# Stack tensors\n",
        "x_stacked = torch.stack([x,x,x,x], dim=1)\n",
        "my_stacked = torch.stack([my_tensor,my_tensor], dim=3)\n",
        "x_stacked, my_stacked"
      ],
      "metadata": {
        "colab": {
          "base_uri": "https://localhost:8080/"
        },
        "id": "5MzqJ8hihPaJ",
        "outputId": "13ba4f25-72ff-458c-cfb2-a32312f97ade"
      },
      "execution_count": 42,
      "outputs": [
        {
          "output_type": "execute_result",
          "data": {
            "text/plain": [
              "(tensor([[5., 5., 5., 5.],\n",
              "         [2., 2., 2., 2.],\n",
              "         [3., 3., 3., 3.],\n",
              "         [4., 4., 4., 4.],\n",
              "         [5., 5., 5., 5.],\n",
              "         [6., 6., 6., 6.],\n",
              "         [7., 7., 7., 7.],\n",
              "         [8., 8., 8., 8.],\n",
              "         [9., 9., 9., 9.]]),\n",
              " tensor([[[[0.6968, 0.6968],\n",
              "           [0.6538, 0.6538]],\n",
              " \n",
              "          [[0.4161, 0.4161],\n",
              "           [0.7335, 0.7335]],\n",
              " \n",
              "          [[0.8170, 0.8170],\n",
              "           [0.3034, 0.3034]],\n",
              " \n",
              "          [[0.7524, 0.7524],\n",
              "           [0.5976, 0.5976]],\n",
              " \n",
              "          [[0.8976, 0.8976],\n",
              "           [0.4672, 0.4672]]],\n",
              " \n",
              " \n",
              "         [[[0.7053, 0.7053],\n",
              "           [0.6657, 0.6657]],\n",
              " \n",
              "          [[0.0408, 0.0408],\n",
              "           [0.0041, 0.0041]],\n",
              " \n",
              "          [[0.3088, 0.3088],\n",
              "           [0.1538, 0.1538]],\n",
              " \n",
              "          [[0.3274, 0.3274],\n",
              "           [0.4256, 0.4256]],\n",
              " \n",
              "          [[0.0035, 0.0035],\n",
              "           [0.9431, 0.9431]]],\n",
              " \n",
              " \n",
              "         [[[0.8413, 0.8413],\n",
              "           [0.6598, 0.6598]],\n",
              " \n",
              "          [[0.2390, 0.2390],\n",
              "           [0.2661, 0.2661]],\n",
              " \n",
              "          [[0.6095, 0.6095],\n",
              "           [0.4743, 0.4743]],\n",
              " \n",
              "          [[0.2798, 0.2798],\n",
              "           [0.5043, 0.5043]],\n",
              " \n",
              "          [[0.5989, 0.5989],\n",
              "           [0.3813, 0.3813]]]]))"
            ]
          },
          "metadata": {},
          "execution_count": 42
        }
      ]
    },
    {
      "cell_type": "code",
      "source": [
        "# Squeeze and Unsqueeze\n",
        "x_reshaped, x_reshaped.shape"
      ],
      "metadata": {
        "colab": {
          "base_uri": "https://localhost:8080/"
        },
        "id": "hCnr0Ui4hhMU",
        "outputId": "597be23c-dbeb-41b6-fdce-d579198a1cdf"
      },
      "execution_count": 43,
      "outputs": [
        {
          "output_type": "execute_result",
          "data": {
            "text/plain": [
              "(tensor([[5.],\n",
              "         [2.],\n",
              "         [3.],\n",
              "         [4.],\n",
              "         [5.],\n",
              "         [6.],\n",
              "         [7.],\n",
              "         [8.],\n",
              "         [9.]]),\n",
              " torch.Size([9, 1]))"
            ]
          },
          "metadata": {},
          "execution_count": 43
        }
      ]
    },
    {
      "cell_type": "code",
      "source": [
        "# Squeeze -  removes extra dimensions from x_reshaped\n",
        "x_squeezed = x_reshaped.squeeze()\n",
        "x_squeezed, x_squeezed.shape"
      ],
      "metadata": {
        "colab": {
          "base_uri": "https://localhost:8080/"
        },
        "id": "9Su8g52Pjl1L",
        "outputId": "1e14d7f4-d290-4a5c-e863-681f54845e45"
      },
      "execution_count": 44,
      "outputs": [
        {
          "output_type": "execute_result",
          "data": {
            "text/plain": [
              "(tensor([5., 2., 3., 4., 5., 6., 7., 8., 9.]), torch.Size([9]))"
            ]
          },
          "metadata": {},
          "execution_count": 44
        }
      ]
    },
    {
      "cell_type": "code",
      "source": [
        "# torch.unsqueeze() - adds a single dimension to a target tensor at a specific dim\n",
        "x_unsqueezed = x_squeezed.unsqueeze(dim=1)\n",
        "x_unsqueezed, x_unsqueezed.shape"
      ],
      "metadata": {
        "colab": {
          "base_uri": "https://localhost:8080/"
        },
        "id": "CF8YoHEQmSz4",
        "outputId": "77869186-14be-444a-8e7a-525211736ca9"
      },
      "execution_count": 45,
      "outputs": [
        {
          "output_type": "execute_result",
          "data": {
            "text/plain": [
              "(tensor([[5.],\n",
              "         [2.],\n",
              "         [3.],\n",
              "         [4.],\n",
              "         [5.],\n",
              "         [6.],\n",
              "         [7.],\n",
              "         [8.],\n",
              "         [9.]]),\n",
              " torch.Size([9, 1]))"
            ]
          },
          "metadata": {},
          "execution_count": 45
        }
      ]
    },
    {
      "cell_type": "code",
      "source": [
        "# torch.permute - rearranges the dimensions of a target tensor in a specified order\n",
        "x_original = torch.rand(size=(224,224,3)) # [height, width, colour_channels]\n",
        "\n",
        "x_permuted = x_original.permute(2,0,1)\n",
        "\n",
        "x_original.shape, x_permuted.shape"
      ],
      "metadata": {
        "colab": {
          "base_uri": "https://localhost:8080/"
        },
        "id": "mxZtwNsRpJBF",
        "outputId": "24fce296-6187-49a2-83a7-d4e5eb9d9e97"
      },
      "execution_count": 46,
      "outputs": [
        {
          "output_type": "execute_result",
          "data": {
            "text/plain": [
              "(torch.Size([224, 224, 3]), torch.Size([3, 224, 224]))"
            ]
          },
          "metadata": {},
          "execution_count": 46
        }
      ]
    },
    {
      "cell_type": "markdown",
      "source": [
        "# Indexing (selecting data from Tensors)\n",
        "\n"
      ],
      "metadata": {
        "id": "4AYEwwo2hVqp"
      }
    },
    {
      "cell_type": "code",
      "source": [
        "# Create tensor\n",
        "import torch\n",
        "x = torch.arange(1,10).reshape(1,3,3)\n",
        "x"
      ],
      "metadata": {
        "colab": {
          "base_uri": "https://localhost:8080/"
        },
        "id": "zIO-s5F1hijR",
        "outputId": "ecd989ff-ffbb-4330-e2c8-be6aa6317f8b"
      },
      "execution_count": 47,
      "outputs": [
        {
          "output_type": "execute_result",
          "data": {
            "text/plain": [
              "tensor([[[1, 2, 3],\n",
              "         [4, 5, 6],\n",
              "         [7, 8, 9]]])"
            ]
          },
          "metadata": {},
          "execution_count": 47
        }
      ]
    },
    {
      "cell_type": "code",
      "source": [
        "# Index on new tensor\n",
        "x[0,:-1,:-1]"
      ],
      "metadata": {
        "colab": {
          "base_uri": "https://localhost:8080/"
        },
        "id": "LPpoeyo5htQP",
        "outputId": "f396ee11-003a-4555-f948-4dc27c43fa82"
      },
      "execution_count": 48,
      "outputs": [
        {
          "output_type": "execute_result",
          "data": {
            "text/plain": [
              "tensor([[1, 2],\n",
              "        [4, 5]])"
            ]
          },
          "metadata": {},
          "execution_count": 48
        }
      ]
    },
    {
      "cell_type": "code",
      "source": [
        "# Get all values of 0th and 1st dim but only 1 index of 2nd dim\n",
        "x[:,:,1]"
      ],
      "metadata": {
        "colab": {
          "base_uri": "https://localhost:8080/"
        },
        "id": "X5swPvmWh5yR",
        "outputId": "77478a1a-44d8-49dc-8084-838f60eac4ac"
      },
      "execution_count": 49,
      "outputs": [
        {
          "output_type": "execute_result",
          "data": {
            "text/plain": [
              "tensor([[2, 5, 8]])"
            ]
          },
          "metadata": {},
          "execution_count": 49
        }
      ]
    },
    {
      "cell_type": "code",
      "source": [
        "# Get all values of the 0 dim but only the 1 index value of 1st and 2nd dimension\n",
        "x[:,1,1]"
      ],
      "metadata": {
        "colab": {
          "base_uri": "https://localhost:8080/"
        },
        "id": "VOp0SqATi-6C",
        "outputId": "bb03fba5-d135-49ff-ab76-53d96e2c4d0e"
      },
      "execution_count": 50,
      "outputs": [
        {
          "output_type": "execute_result",
          "data": {
            "text/plain": [
              "tensor([5])"
            ]
          },
          "metadata": {},
          "execution_count": 50
        }
      ]
    },
    {
      "cell_type": "code",
      "source": [
        "# Get index 0 of 0th and 1st dim and all values of 2nd dim\n",
        "x[0,0,:]"
      ],
      "metadata": {
        "colab": {
          "base_uri": "https://localhost:8080/"
        },
        "id": "2RkJPK69jY-N",
        "outputId": "265c0437-c6dc-4450-d58b-db4ca3adf5f5"
      },
      "execution_count": 51,
      "outputs": [
        {
          "output_type": "execute_result",
          "data": {
            "text/plain": [
              "tensor([1, 2, 3])"
            ]
          },
          "metadata": {},
          "execution_count": 51
        }
      ]
    },
    {
      "cell_type": "code",
      "source": [
        "x[0,-1,-1], x[0,:,-1]"
      ],
      "metadata": {
        "colab": {
          "base_uri": "https://localhost:8080/"
        },
        "id": "Z_sI8A7aju4g",
        "outputId": "7312da28-3eac-4da4-fcb9-46394da6a86d"
      },
      "execution_count": 52,
      "outputs": [
        {
          "output_type": "execute_result",
          "data": {
            "text/plain": [
              "(tensor(9), tensor([3, 6, 9]))"
            ]
          },
          "metadata": {},
          "execution_count": 52
        }
      ]
    },
    {
      "cell_type": "markdown",
      "source": [
        "# Pytorch tensors and NumPy\n",
        "\n",
        "* Data in Numpy, want in Pytorch tensor -> `torch.from_numpy(ndarray)`\n",
        "* Pytorch tensor -> Numpy -> `torch.Tensor.numpy()`\n",
        "\n",
        "Be Careful:\n",
        " * PyTorch default dtype = `float32`\n",
        " * Numpy default dtype = `float64`"
      ],
      "metadata": {
        "id": "kefGbD-OkVa-"
      }
    },
    {
      "cell_type": "code",
      "source": [
        "import torch\n",
        "import numpy as np\n",
        "\n",
        "array = np.arange(1.0,8)\n",
        "tensor = torch.from_numpy(array).type(torch.float32) # numpy to torch will be float 64 unless specified\n",
        "\n",
        "array, tensor"
      ],
      "metadata": {
        "colab": {
          "base_uri": "https://localhost:8080/"
        },
        "id": "BJi80ysckrlL",
        "outputId": "6a453240-6902-446f-d5d8-de5328d1c916"
      },
      "execution_count": 1,
      "outputs": [
        {
          "output_type": "execute_result",
          "data": {
            "text/plain": [
              "(array([1., 2., 3., 4., 5., 6., 7.]), tensor([1., 2., 3., 4., 5., 6., 7.]))"
            ]
          },
          "metadata": {},
          "execution_count": 1
        }
      ]
    },
    {
      "cell_type": "code",
      "source": [
        "# Change the value of array, what will this do to `tensor`?\n",
        "array +=1\n",
        "array, tensor"
      ],
      "metadata": {
        "colab": {
          "base_uri": "https://localhost:8080/"
        },
        "id": "MaKnDQnok3og",
        "outputId": "56db42d5-4ad5-4bc4-ecbe-29613d5e2c00"
      },
      "execution_count": 2,
      "outputs": [
        {
          "output_type": "execute_result",
          "data": {
            "text/plain": [
              "(array([2., 3., 4., 5., 6., 7., 8.]), tensor([1., 2., 3., 4., 5., 6., 7.]))"
            ]
          },
          "metadata": {},
          "execution_count": 2
        }
      ]
    },
    {
      "cell_type": "code",
      "source": [
        "# Tensor to NumPy array\n",
        "tensor = torch.ones(7)\n",
        "numpy_tensor = tensor.numpy()  # torch to numpy will be float32 unless specified\n",
        "tensor, numpy_tensor"
      ],
      "metadata": {
        "colab": {
          "base_uri": "https://localhost:8080/"
        },
        "id": "riDF9MHglAup",
        "outputId": "69c6eda9-27f0-4850-bc43-9ff957ceadcc"
      },
      "execution_count": 3,
      "outputs": [
        {
          "output_type": "execute_result",
          "data": {
            "text/plain": [
              "(tensor([1., 1., 1., 1., 1., 1., 1.]),\n",
              " array([1., 1., 1., 1., 1., 1., 1.], dtype=float32))"
            ]
          },
          "metadata": {},
          "execution_count": 3
        }
      ]
    },
    {
      "cell_type": "code",
      "source": [
        "# Change tensor, what happens to `numpy_tensor` ?\n",
        "tensor = tensor +1\n",
        "numpy_tensor, tensor"
      ],
      "metadata": {
        "colab": {
          "base_uri": "https://localhost:8080/"
        },
        "id": "GJ3lixYjmAAQ",
        "outputId": "8b90674d-7ecc-40a5-df76-fb53d1422923"
      },
      "execution_count": 4,
      "outputs": [
        {
          "output_type": "execute_result",
          "data": {
            "text/plain": [
              "(array([1., 1., 1., 1., 1., 1., 1.], dtype=float32),\n",
              " tensor([2., 2., 2., 2., 2., 2., 2.]))"
            ]
          },
          "metadata": {},
          "execution_count": 4
        }
      ]
    },
    {
      "cell_type": "code",
      "source": [
        "# In place operations will affect both numpy and tensor\n",
        "# This will not apply if you use tensor = tensor + 1 as you create a new tensor by doing this\n",
        "# which also changes memory address so in place affects the new tensor\n",
        "tensor+=1\n",
        "numpy_tensor, tensor"
      ],
      "metadata": {
        "colab": {
          "base_uri": "https://localhost:8080/"
        },
        "id": "0HCW0mfMmZHT",
        "outputId": "905ba798-1872-4416-f3fa-f1350fa0a1f4"
      },
      "execution_count": 5,
      "outputs": [
        {
          "output_type": "execute_result",
          "data": {
            "text/plain": [
              "(array([1., 1., 1., 1., 1., 1., 1.], dtype=float32),\n",
              " tensor([3., 3., 3., 3., 3., 3., 3.]))"
            ]
          },
          "metadata": {},
          "execution_count": 5
        }
      ]
    },
    {
      "cell_type": "markdown",
      "source": [
        "# Reproducibility\n",
        "( try to take out random out of random)\n",
        "\n",
        "To reduce randomness in NN and pytorh we use **random seed**.\n"
      ],
      "metadata": {
        "id": "DZw1w_Qt1yYo"
      }
    },
    {
      "cell_type": "code",
      "source": [
        "torch.rand(3,3)"
      ],
      "metadata": {
        "colab": {
          "base_uri": "https://localhost:8080/"
        },
        "id": "6ISzpuNa2GGN",
        "outputId": "e3b1126f-e135-4d7f-a5b8-01d39f1ef76d"
      },
      "execution_count": 6,
      "outputs": [
        {
          "output_type": "execute_result",
          "data": {
            "text/plain": [
              "tensor([[0.8672, 0.6896, 0.0667],\n",
              "        [0.5976, 0.7071, 0.0837],\n",
              "        [0.6761, 0.0709, 0.0954]])"
            ]
          },
          "metadata": {},
          "execution_count": 6
        }
      ]
    },
    {
      "cell_type": "code",
      "source": [
        "import torch\n",
        "\n",
        "# create 2 rand tensors\n",
        "rand_tensor_A = torch.rand(3,4)\n",
        "rand_tensor_B = torch.rand(3,4)\n",
        "\n",
        "print(rand_tensor_A, rand_tensor_B)\n",
        "print(rand_tensor_A == rand_tensor_B)"
      ],
      "metadata": {
        "colab": {
          "base_uri": "https://localhost:8080/"
        },
        "id": "MDEWnrK_2LYD",
        "outputId": "081f25ab-766e-48ca-c960-c1d533018503"
      },
      "execution_count": 7,
      "outputs": [
        {
          "output_type": "stream",
          "name": "stdout",
          "text": [
            "tensor([[0.5998, 0.5033, 0.7981, 0.0966],\n",
            "        [0.3397, 0.0323, 0.8376, 0.1183],\n",
            "        [0.2592, 0.1124, 0.4829, 0.9019]]) tensor([[0.0683, 0.2745, 0.1746, 0.9849],\n",
            "        [0.5460, 0.6577, 0.0666, 0.6965],\n",
            "        [0.9283, 0.7475, 0.3182, 0.1150]])\n",
            "tensor([[False, False, False, False],\n",
            "        [False, False, False, False],\n",
            "        [False, False, False, False]])\n"
          ]
        }
      ]
    },
    {
      "cell_type": "code",
      "source": [
        "# Make random but reproducibile tensors\n",
        "import torch\n",
        "\n",
        "# Set the random seed\n",
        "RANDOM_SEED = 42\n",
        "torch.manual_seed(RANDOM_SEED)\n",
        "\n",
        "random_tensor_C = torch.rand(3,4)\n",
        "\n",
        "torch.manual_seed(RANDOM_SEED)\n",
        "random_tensor_D = torch.rand(3,4)\n",
        "\n",
        "print(random_tensor_C, random_tensor_D)\n",
        "print(random_tensor_C == random_tensor_D)"
      ],
      "metadata": {
        "colab": {
          "base_uri": "https://localhost:8080/"
        },
        "id": "aMjYUefR2w9g",
        "outputId": "91dc0286-7fd2-4756-dd57-66b68d106b62"
      },
      "execution_count": 8,
      "outputs": [
        {
          "output_type": "stream",
          "name": "stdout",
          "text": [
            "tensor([[0.8823, 0.9150, 0.3829, 0.9593],\n",
            "        [0.3904, 0.6009, 0.2566, 0.7936],\n",
            "        [0.9408, 0.1332, 0.9346, 0.5936]]) tensor([[0.8823, 0.9150, 0.3829, 0.9593],\n",
            "        [0.3904, 0.6009, 0.2566, 0.7936],\n",
            "        [0.9408, 0.1332, 0.9346, 0.5936]])\n",
            "tensor([[True, True, True, True],\n",
            "        [True, True, True, True],\n",
            "        [True, True, True, True]])\n"
          ]
        }
      ]
    },
    {
      "cell_type": "markdown",
      "source": [
        "# Accessing GPU\n",
        "\n",
        "GPU -> faster computation on numbers\n",
        "\n",
        "Getting a GPU\n",
        "\n",
        "1. Google Colab for free GPU\n",
        "2. Use own GPU\n",
        "3. Cloud computing - GCP, AWS, Azure rent computers on cloud"
      ],
      "metadata": {
        "id": "n4Rq5BSx4dGn"
      }
    },
    {
      "cell_type": "code",
      "source": [
        "!nvidia-smi"
      ],
      "metadata": {
        "colab": {
          "base_uri": "https://localhost:8080/"
        },
        "id": "WzuYbGzv4foQ",
        "outputId": "a6754747-6733-4389-b34e-0ee9a33638b3"
      },
      "execution_count": 9,
      "outputs": [
        {
          "output_type": "stream",
          "name": "stdout",
          "text": [
            "Thu Oct 19 00:44:03 2023       \n",
            "+-----------------------------------------------------------------------------+\n",
            "| NVIDIA-SMI 525.105.17   Driver Version: 525.105.17   CUDA Version: 12.0     |\n",
            "|-------------------------------+----------------------+----------------------+\n",
            "| GPU  Name        Persistence-M| Bus-Id        Disp.A | Volatile Uncorr. ECC |\n",
            "| Fan  Temp  Perf  Pwr:Usage/Cap|         Memory-Usage | GPU-Util  Compute M. |\n",
            "|                               |                      |               MIG M. |\n",
            "|===============================+======================+======================|\n",
            "|   0  Tesla T4            Off  | 00000000:00:04.0 Off |                    0 |\n",
            "| N/A   48C    P8    10W /  70W |      0MiB / 15360MiB |      0%      Default |\n",
            "|                               |                      |                  N/A |\n",
            "+-------------------------------+----------------------+----------------------+\n",
            "                                                                               \n",
            "+-----------------------------------------------------------------------------+\n",
            "| Processes:                                                                  |\n",
            "|  GPU   GI   CI        PID   Type   Process name                  GPU Memory |\n",
            "|        ID   ID                                                   Usage      |\n",
            "|=============================================================================|\n",
            "|  No running processes found                                                 |\n",
            "+-----------------------------------------------------------------------------+\n"
          ]
        }
      ]
    },
    {
      "cell_type": "markdown",
      "source": [
        "Check GPU access"
      ],
      "metadata": {
        "id": "vQQcmjCCZGxf"
      }
    },
    {
      "cell_type": "code",
      "source": [
        "# Check for GPU access with Pytorch\n",
        "import torch\n",
        "torch.cuda.is_available(), torch.cuda.device_count()"
      ],
      "metadata": {
        "colab": {
          "base_uri": "https://localhost:8080/"
        },
        "id": "DsJ87j0iZKLU",
        "outputId": "31074bea-e12b-48a3-9305-eafe41346008"
      },
      "execution_count": 12,
      "outputs": [
        {
          "output_type": "execute_result",
          "data": {
            "text/plain": [
              "(True, 1)"
            ]
          },
          "metadata": {},
          "execution_count": 12
        }
      ]
    },
    {
      "cell_type": "code",
      "source": [
        "# Setup device agnostic code\n",
        "device = \"cuda\" if torch.cuda.is_available() else \"cpu\"\n",
        "device"
      ],
      "metadata": {
        "colab": {
          "base_uri": "https://localhost:8080/",
          "height": 35
        },
        "id": "O4_VJCYjZYD3",
        "outputId": "dd9a9f26-ce12-4149-ddcd-d1f7b4079e55"
      },
      "execution_count": 11,
      "outputs": [
        {
          "output_type": "execute_result",
          "data": {
            "text/plain": [
              "'cuda'"
            ],
            "application/vnd.google.colaboratory.intrinsic+json": {
              "type": "string"
            }
          },
          "metadata": {},
          "execution_count": 11
        }
      ]
    }
  ]
}